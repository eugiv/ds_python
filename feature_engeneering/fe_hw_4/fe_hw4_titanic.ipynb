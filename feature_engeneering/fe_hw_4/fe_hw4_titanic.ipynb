{
 "cells": [
  {
   "cell_type": "code",
   "id": "initial_id",
   "metadata": {
    "collapsed": true,
    "ExecuteTime": {
     "end_time": "2025-09-10T16:33:30.976913Z",
     "start_time": "2025-09-10T16:33:30.969255Z"
    }
   },
   "source": [
    "import pandas as pd\n",
    "import matplotlib.pyplot as plt\n",
    "import seaborn as sns\n",
    "from sklearn.linear_model import LogisticRegression\n",
    "from sklearn.metrics import mean_absolute_percentage_error\n",
    "from sklearn.preprocessing import OneHotEncoder\n",
    "from sklearn.metrics import accuracy_score, classification_report\n",
    "from sklearn.model_selection import train_test_split\n",
    "\n",
    "titanic_train_df = pd.read_csv('train.csv')\n",
    "titanic_test_df = pd.read_csv('test.csv')\n",
    "\n",
    "categorical_features_lst = ['']"
   ],
   "outputs": [],
   "execution_count": 41
  },
  {
   "metadata": {
    "ExecuteTime": {
     "end_time": "2025-09-10T16:33:30.996622Z",
     "start_time": "2025-09-10T16:33:30.991382Z"
    }
   },
   "cell_type": "code",
   "source": [
    "titanic_train_df.info()\n",
    "titanic_test_df.info()"
   ],
   "id": "9350c619d09a1501",
   "outputs": [
    {
     "name": "stdout",
     "output_type": "stream",
     "text": [
      "<class 'pandas.core.frame.DataFrame'>\n",
      "RangeIndex: 891 entries, 0 to 890\n",
      "Data columns (total 12 columns):\n",
      " #   Column       Non-Null Count  Dtype  \n",
      "---  ------       --------------  -----  \n",
      " 0   PassengerId  891 non-null    int64  \n",
      " 1   Survived     891 non-null    int64  \n",
      " 2   Pclass       891 non-null    int64  \n",
      " 3   Name         891 non-null    object \n",
      " 4   Sex          891 non-null    object \n",
      " 5   Age          714 non-null    float64\n",
      " 6   SibSp        891 non-null    int64  \n",
      " 7   Parch        891 non-null    int64  \n",
      " 8   Ticket       891 non-null    object \n",
      " 9   Fare         891 non-null    float64\n",
      " 10  Cabin        204 non-null    object \n",
      " 11  Embarked     889 non-null    object \n",
      "dtypes: float64(2), int64(5), object(5)\n",
      "memory usage: 83.7+ KB\n",
      "<class 'pandas.core.frame.DataFrame'>\n",
      "RangeIndex: 418 entries, 0 to 417\n",
      "Data columns (total 11 columns):\n",
      " #   Column       Non-Null Count  Dtype  \n",
      "---  ------       --------------  -----  \n",
      " 0   PassengerId  418 non-null    int64  \n",
      " 1   Pclass       418 non-null    int64  \n",
      " 2   Name         418 non-null    object \n",
      " 3   Sex          418 non-null    object \n",
      " 4   Age          332 non-null    float64\n",
      " 5   SibSp        418 non-null    int64  \n",
      " 6   Parch        418 non-null    int64  \n",
      " 7   Ticket       418 non-null    object \n",
      " 8   Fare         417 non-null    float64\n",
      " 9   Cabin        91 non-null     object \n",
      " 10  Embarked     418 non-null    object \n",
      "dtypes: float64(2), int64(4), object(5)\n",
      "memory usage: 36.1+ KB\n"
     ]
    }
   ],
   "execution_count": 42
  },
  {
   "metadata": {},
   "cell_type": "markdown",
   "source": "Удалите все пропущенные значения и категориальные переменные. Обучите модель. Выберете и посчитайте метрику качества.",
   "id": "6aca30671f2d8e2b"
  },
  {
   "metadata": {
    "ExecuteTime": {
     "end_time": "2025-09-10T16:33:31.023641Z",
     "start_time": "2025-09-10T16:33:31.011701Z"
    }
   },
   "cell_type": "code",
   "source": [
    "titanic_train_df_1 = titanic_train_df.copy()\n",
    "titanic_test_df_1 = titanic_test_df.copy()\n",
    "\n",
    "for df in [titanic_train_df_1, titanic_test_df_1]:\n",
    "    df.dropna(inplace=True)\n",
    "\n",
    "numeric_cols_train = titanic_train_df_1.select_dtypes(include=['number']).columns.tolist()\n",
    "numeric_cols_test = titanic_test_df_1.select_dtypes(include=['number']).columns.tolist()\n",
    "\n",
    "X = titanic_train_df_1[numeric_cols_train].drop('Survived', axis=1)\n",
    "y = titanic_train_df_1['Survived']\n",
    "\n",
    "X_train, X_val, y_train, y_val = train_test_split(\n",
    "    X, y, test_size=0.2, random_state=42, stratify=y\n",
    ")\n",
    "\n",
    "model = LogisticRegression(max_iter=10000, random_state=42)\n",
    "model.fit(X_train, y_train)\n",
    "y_pred_val = model.predict(X_val)\n",
    "\n",
    "model.score(X_val, y_val)\n",
    "val_accuracy = accuracy_score(y_val, y_pred_val)\n",
    "print(f\"Validation Accuracy: {val_accuracy:.4f}\")"
   ],
   "id": "cffa605f5218f507",
   "outputs": [
    {
     "name": "stdout",
     "output_type": "stream",
     "text": [
      "Validation Accuracy: 0.6757\n"
     ]
    }
   ],
   "execution_count": 43
  }
 ],
 "metadata": {
  "kernelspec": {
   "display_name": "Python 3",
   "language": "python",
   "name": "python3"
  },
  "language_info": {
   "codemirror_mode": {
    "name": "ipython",
    "version": 2
   },
   "file_extension": ".py",
   "mimetype": "text/x-python",
   "name": "python",
   "nbconvert_exporter": "python",
   "pygments_lexer": "ipython2",
   "version": "2.7.6"
  }
 },
 "nbformat": 4,
 "nbformat_minor": 5
}
