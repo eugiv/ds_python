{
 "cells": [
  {
   "cell_type": "code",
   "id": "initial_id",
   "metadata": {
    "collapsed": true,
    "ExecuteTime": {
     "end_time": "2025-08-17T22:18:52.559969Z",
     "start_time": "2025-08-17T22:18:52.501125Z"
    }
   },
   "source": [
    "from sklearn.datasets import load_iris\n",
    "import pandas as pd\n",
    "import numpy as np\n",
    "\n",
    "iris = load_iris()\n",
    "\n",
    "df = pd.DataFrame(iris.data, columns=iris.feature_names)\n",
    "df['target'] = iris.target\n",
    "df = df[df['target'].isin([1,2])].reset_index(drop=True)"
   ],
   "outputs": [
    {
     "name": "stdout",
     "output_type": "stream",
     "text": [
      "100\n"
     ]
    }
   ],
   "execution_count": 8
  },
  {
   "metadata": {},
   "cell_type": "code",
   "outputs": [],
   "execution_count": null,
   "source": [
    "class LogRegCust:\n",
    "    def __init__(self, learning_rate=0.01, n_iter=1000, tol=0.001, verbose=False):\n",
    "        self.learning_rate = learning_rate\n",
    "        self.n_iter = n_iter\n",
    "        self.tol = tol\n",
    "        self.verbose = verbose\n",
    "        self.weights = None\n",
    "        self.bias = None\n",
    "        self.category_class = None\n",
    "        self.loses = []\n",
    "\n",
    "        def sigmoid(x):\n",
    "            return 1 / (1 + np.exp(-x))\n",
    "\n",
    "        def define_correct_class(self, x):\n",
    "            self.category_class = np.unique(x)\n",
    "            board = np.zeros((len(x), len(self.category_class)))\n",
    "            for idx, i in enumerate(self.category_class):\n",
    "                board[:, idx] = (x==i).astype(int)\n",
    "            return board\n",
    "\n",
    "        def fit(self, X, y):\n",
    "            X = X.values()\n",
    "            y = y.values()\n",
    "\n",
    "            board = self.define_correct_class(y)\n",
    "            n_samples, n_features = X.shape\n",
    "            n_classes = board.shape[1]\n",
    "\n",
    "\n",
    "\n",
    "\n"
   ],
   "id": "c4b6db0e66dbe2be"
  }
 ],
 "metadata": {
  "kernelspec": {
   "display_name": "Python 3",
   "language": "python",
   "name": "python3"
  },
  "language_info": {
   "codemirror_mode": {
    "name": "ipython",
    "version": 2
   },
   "file_extension": ".py",
   "mimetype": "text/x-python",
   "name": "python",
   "nbconvert_exporter": "python",
   "pygments_lexer": "ipython2",
   "version": "2.7.6"
  }
 },
 "nbformat": 4,
 "nbformat_minor": 5
}
