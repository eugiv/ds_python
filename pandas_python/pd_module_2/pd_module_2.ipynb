{
 "cells": [
  {
   "cell_type": "code",
   "id": "initial_id",
   "metadata": {
    "collapsed": true,
    "ExecuteTime": {
     "end_time": "2025-01-07T11:37:19.490227Z",
     "start_time": "2025-01-07T11:37:19.462019Z"
    }
   },
   "source": [
    "import pandas as pd\n",
    "\n",
    "# task_1\n",
    "ratings_df = pd.read_csv(\"ratings.csv\")\n",
    "movies_df = pd.read_csv(\"movies.csv\")"
   ],
   "outputs": [],
   "execution_count": 435
  },
  {
   "metadata": {
    "ExecuteTime": {
     "end_time": "2025-01-07T11:25:34.636993Z",
     "start_time": "2025-01-07T11:25:34.634615Z"
    }
   },
   "cell_type": "code",
   "source": [
    "def rating_class(rating):\n",
    "    if rating <= 2:\n",
    "        return \"low\"\n",
    "    elif rating <= 4:\n",
    "        return \"medium\"\n",
    "    elif 4.5 <= rating <= 5:\n",
    "        return \"high\"\n",
    "    else:\n",
    "        return \"no rating\""
   ],
   "id": "4b1b917845d32dd6",
   "outputs": [],
   "execution_count": 426
  },
  {
   "metadata": {
    "ExecuteTime": {
     "end_time": "2025-01-07T11:25:34.654628Z",
     "start_time": "2025-01-07T11:25:34.637804Z"
    }
   },
   "cell_type": "code",
   "source": [
    "ratings_df[\"class\"] = ratings_df[\"rating\"].apply(rating_class)\n",
    "ratings_df.head()"
   ],
   "id": "41bae5b653ab2702",
   "outputs": [
    {
     "data": {
      "text/plain": [
       "   userId  movieId  rating  timestamp   class\n",
       "0       1        1     4.0  964982703  medium\n",
       "1       1        3     4.0  964981247  medium\n",
       "2       1        6     4.0  964982224  medium\n",
       "3       1       47     5.0  964983815    high\n",
       "4       1       50     5.0  964982931    high"
      ],
      "text/html": [
       "<div>\n",
       "<style scoped>\n",
       "    .dataframe tbody tr th:only-of-type {\n",
       "        vertical-align: middle;\n",
       "    }\n",
       "\n",
       "    .dataframe tbody tr th {\n",
       "        vertical-align: top;\n",
       "    }\n",
       "\n",
       "    .dataframe thead th {\n",
       "        text-align: right;\n",
       "    }\n",
       "</style>\n",
       "<table border=\"1\" class=\"dataframe\">\n",
       "  <thead>\n",
       "    <tr style=\"text-align: right;\">\n",
       "      <th></th>\n",
       "      <th>userId</th>\n",
       "      <th>movieId</th>\n",
       "      <th>rating</th>\n",
       "      <th>timestamp</th>\n",
       "      <th>class</th>\n",
       "    </tr>\n",
       "  </thead>\n",
       "  <tbody>\n",
       "    <tr>\n",
       "      <th>0</th>\n",
       "      <td>1</td>\n",
       "      <td>1</td>\n",
       "      <td>4.0</td>\n",
       "      <td>964982703</td>\n",
       "      <td>medium</td>\n",
       "    </tr>\n",
       "    <tr>\n",
       "      <th>1</th>\n",
       "      <td>1</td>\n",
       "      <td>3</td>\n",
       "      <td>4.0</td>\n",
       "      <td>964981247</td>\n",
       "      <td>medium</td>\n",
       "    </tr>\n",
       "    <tr>\n",
       "      <th>2</th>\n",
       "      <td>1</td>\n",
       "      <td>6</td>\n",
       "      <td>4.0</td>\n",
       "      <td>964982224</td>\n",
       "      <td>medium</td>\n",
       "    </tr>\n",
       "    <tr>\n",
       "      <th>3</th>\n",
       "      <td>1</td>\n",
       "      <td>47</td>\n",
       "      <td>5.0</td>\n",
       "      <td>964983815</td>\n",
       "      <td>high</td>\n",
       "    </tr>\n",
       "    <tr>\n",
       "      <th>4</th>\n",
       "      <td>1</td>\n",
       "      <td>50</td>\n",
       "      <td>5.0</td>\n",
       "      <td>964982931</td>\n",
       "      <td>high</td>\n",
       "    </tr>\n",
       "  </tbody>\n",
       "</table>\n",
       "</div>"
      ]
     },
     "execution_count": 427,
     "metadata": {},
     "output_type": "execute_result"
    }
   ],
   "execution_count": 427
  },
  {
   "metadata": {
    "ExecuteTime": {
     "end_time": "2025-01-07T11:25:34.714651Z",
     "start_time": "2025-01-07T11:25:34.655759Z"
    }
   },
   "cell_type": "code",
   "source": [
    "# task_2\n",
    "keywords_df = pd.read_csv(\"keywords.csv\")"
   ],
   "id": "14808f64a30bbee0",
   "outputs": [
    {
     "data": {
      "text/plain": [
       "         keyword     shows\n",
       "0             вк  64292779\n",
       "1  одноклассники  63810309\n",
       "2          порно  41747114\n",
       "3           ютуб  39995567\n",
       "4      вконтакте  21014195"
      ],
      "text/html": [
       "<div>\n",
       "<style scoped>\n",
       "    .dataframe tbody tr th:only-of-type {\n",
       "        vertical-align: middle;\n",
       "    }\n",
       "\n",
       "    .dataframe tbody tr th {\n",
       "        vertical-align: top;\n",
       "    }\n",
       "\n",
       "    .dataframe thead th {\n",
       "        text-align: right;\n",
       "    }\n",
       "</style>\n",
       "<table border=\"1\" class=\"dataframe\">\n",
       "  <thead>\n",
       "    <tr style=\"text-align: right;\">\n",
       "      <th></th>\n",
       "      <th>keyword</th>\n",
       "      <th>shows</th>\n",
       "    </tr>\n",
       "  </thead>\n",
       "  <tbody>\n",
       "    <tr>\n",
       "      <th>0</th>\n",
       "      <td>вк</td>\n",
       "      <td>64292779</td>\n",
       "    </tr>\n",
       "    <tr>\n",
       "      <th>1</th>\n",
       "      <td>одноклассники</td>\n",
       "      <td>63810309</td>\n",
       "    </tr>\n",
       "    <tr>\n",
       "      <th>2</th>\n",
       "      <td>порно</td>\n",
       "      <td>41747114</td>\n",
       "    </tr>\n",
       "    <tr>\n",
       "      <th>3</th>\n",
       "      <td>ютуб</td>\n",
       "      <td>39995567</td>\n",
       "    </tr>\n",
       "    <tr>\n",
       "      <th>4</th>\n",
       "      <td>вконтакте</td>\n",
       "      <td>21014195</td>\n",
       "    </tr>\n",
       "  </tbody>\n",
       "</table>\n",
       "</div>"
      ]
     },
     "execution_count": 428,
     "metadata": {},
     "output_type": "execute_result"
    }
   ],
   "execution_count": 428
  },
  {
   "metadata": {
    "ExecuteTime": {
     "end_time": "2025-01-07T11:25:56.250557Z",
     "start_time": "2025-01-07T11:25:34.715332Z"
    }
   },
   "cell_type": "code",
   "source": [
    "import pymorphy3\n",
    "\n",
    "geo_data = {\n",
    "    \"Центр\": [\"москва\", \"тула\", \"ярославль\"],\n",
    "    \"Северо-Запад\": [\"петербург\", \"псков\", \"мурманск\"],\n",
    "    \"Дальний Восток\": [\"владивосток\", \"сахалин\", \"хабаровск\"],\n",
    "}\n",
    "\n",
    "word_morph = pymorphy3.MorphAnalyzer()\n",
    "\n",
    "\n",
    "def region_classificator(kw: str):\n",
    "    kw_normalized = [\n",
    "        word_morph.parse(word)[0].normal_form for word in kw.lower().split(\" \")\n",
    "    ]\n",
    "\n",
    "    regions = []\n",
    "    for region, cities in geo_data.items():\n",
    "        for city in cities:\n",
    "            if city in kw_normalized:\n",
    "                regions.append(region)\n",
    "\n",
    "    return \", \".join(regions) if regions else \"undefined\"\n",
    "\n",
    "\n",
    "keywords_df[\"region\"] = keywords_df[\"keyword\"].apply(region_classificator)"
   ],
   "id": "7f3be7eb93ca3325",
   "outputs": [],
   "execution_count": 429
  },
  {
   "metadata": {
    "ExecuteTime": {
     "end_time": "2025-01-07T12:25:46.677495Z",
     "start_time": "2025-01-07T12:25:46.648273Z"
    }
   },
   "cell_type": "code",
   "source": [
    "# task_3\n",
    "import re\n",
    "\n",
    "years = [year for year in range(1950, 2011)]\n",
    "\n",
    "\n",
    "def production_year(movie_title):\n",
    "    title_year = re.search(r\"\\((\\d{4})\\)\", movie_title)\n",
    "\n",
    "    if title_year:\n",
    "        extracted_year = int(title_year.group(1))\n",
    "        if extracted_year in years:\n",
    "            return extracted_year if extracted_year else 1990\n",
    "\n",
    "\n",
    "movies_df[\"year\"] = movies_df[\"title\"].apply(production_year)\n",
    "\n",
    "movies_ratings_df = pd.merge(movies_df, ratings_df, on=\"movieId\", how=\"inner\")\n",
    "years_mean_rating_df = (\n",
    "    movies_ratings_df.groupby(\"year\")[\"rating\"]\n",
    "    .mean()\n",
    "    .reset_index()\n",
    "    .sort_values(by=\"rating\", ascending=True)\n",
    ")\n",
    "years_mean_rating_df.head()"
   ],
   "id": "680ce10806a6db4f",
   "outputs": [
    {
     "data": {
      "text/plain": [
       "      year    rating\n",
       "46  1996.0  3.338894\n",
       "47  1997.0  3.349749\n",
       "42  1992.0  3.368166\n",
       "55  2005.0  3.371513\n",
       "50  2000.0  3.403993"
      ],
      "text/html": [
       "<div>\n",
       "<style scoped>\n",
       "    .dataframe tbody tr th:only-of-type {\n",
       "        vertical-align: middle;\n",
       "    }\n",
       "\n",
       "    .dataframe tbody tr th {\n",
       "        vertical-align: top;\n",
       "    }\n",
       "\n",
       "    .dataframe thead th {\n",
       "        text-align: right;\n",
       "    }\n",
       "</style>\n",
       "<table border=\"1\" class=\"dataframe\">\n",
       "  <thead>\n",
       "    <tr style=\"text-align: right;\">\n",
       "      <th></th>\n",
       "      <th>year</th>\n",
       "      <th>rating</th>\n",
       "    </tr>\n",
       "  </thead>\n",
       "  <tbody>\n",
       "    <tr>\n",
       "      <th>46</th>\n",
       "      <td>1996.0</td>\n",
       "      <td>3.338894</td>\n",
       "    </tr>\n",
       "    <tr>\n",
       "      <th>47</th>\n",
       "      <td>1997.0</td>\n",
       "      <td>3.349749</td>\n",
       "    </tr>\n",
       "    <tr>\n",
       "      <th>42</th>\n",
       "      <td>1992.0</td>\n",
       "      <td>3.368166</td>\n",
       "    </tr>\n",
       "    <tr>\n",
       "      <th>55</th>\n",
       "      <td>2005.0</td>\n",
       "      <td>3.371513</td>\n",
       "    </tr>\n",
       "    <tr>\n",
       "      <th>50</th>\n",
       "      <td>2000.0</td>\n",
       "      <td>3.403993</td>\n",
       "    </tr>\n",
       "  </tbody>\n",
       "</table>\n",
       "</div>"
      ]
     },
     "execution_count": 476,
     "metadata": {},
     "output_type": "execute_result"
    }
   ],
   "execution_count": 476
  },
  {
   "metadata": {},
   "cell_type": "code",
   "outputs": [],
   "execution_count": null,
   "source": "",
   "id": "751d1e001774b20b"
  }
 ],
 "metadata": {
  "kernelspec": {
   "display_name": "Python 3",
   "language": "python",
   "name": "python3"
  },
  "language_info": {
   "codemirror_mode": {
    "name": "ipython",
    "version": 2
   },
   "file_extension": ".py",
   "mimetype": "text/x-python",
   "name": "python",
   "nbconvert_exporter": "python",
   "pygments_lexer": "ipython2",
   "version": "2.7.6"
  }
 },
 "nbformat": 4,
 "nbformat_minor": 5
}
