{
 "cells": [
  {
   "cell_type": "code",
   "id": "initial_id",
   "metadata": {
    "collapsed": true,
    "ExecuteTime": {
     "end_time": "2025-02-06T20:03:09.509426Z",
     "start_time": "2025-02-06T20:03:09.507757Z"
    }
   },
   "source": [
    "import pandas as pd\n",
    "import numpy as np\n",
    "import matplotlib.pyplot as plt\n",
    "import seaborn as sns"
   ],
   "outputs": [],
   "execution_count": 1
  },
  {
   "metadata": {
    "ExecuteTime": {
     "end_time": "2025-02-06T20:03:15.138678Z",
     "start_time": "2025-02-06T20:03:09.510709Z"
    }
   },
   "cell_type": "code",
   "source": [
    "car_df = pd.read_csv(\n",
    "    \"https://raw.githubusercontent.com/catprokhorova/HW_datasets/main/EDA_1/german_used_cars.csv\",\n",
    "    index_col=0,\n",
    ")\n",
    "car_df.head()"
   ],
   "id": "a720154ec7e98f81",
   "outputs": [
    {
     "data": {
      "text/plain": [
       "        brand              model  color registration_date  year price_in_euro  \\\n",
       "0  alfa-romeo     Alfa Romeo GTV    red           10/1995  1995          1300   \n",
       "1  alfa-romeo     Alfa Romeo 164  black           02/1995  1995         24900   \n",
       "2  alfa-romeo  Alfa Romeo Spider  black           02/1995  1995          5900   \n",
       "3  alfa-romeo  Alfa Romeo Spider  black           07/1995  1995          4900   \n",
       "4  alfa-romeo     Alfa Romeo 164    red           11/1996  1996         17950   \n",
       "\n",
       "  power_kw power_ps transmission_type fuel_type fuel_consumption_l_100km  \\\n",
       "0      148      201            Manual    Petrol            10,9 l/100 km   \n",
       "1      191      260            Manual    Petrol                      NaN   \n",
       "2      110      150           Unknown    Petrol                      NaN   \n",
       "3      110      150            Manual    Petrol             9,5 l/100 km   \n",
       "4      132      179            Manual    Petrol             7,2 l/100 km   \n",
       "\n",
       "  fuel_consumption_g_km  mileage_in_km                      offer_description  \n",
       "0              260 g/km       160500.0                              2.0 V6 TB  \n",
       "1              - (g/km)       190000.0                    Q4 Allrad, 3.2L GTA  \n",
       "2              - (g/km)       129000.0                          ALFA ROME 916  \n",
       "3              225 g/km       189500.0                   2.0 16V Twin Spark L  \n",
       "4              - (g/km)        96127.0  3.0i Super V6, absoluter Topzustand !  "
      ],
      "text/html": [
       "<div>\n",
       "<style scoped>\n",
       "    .dataframe tbody tr th:only-of-type {\n",
       "        vertical-align: middle;\n",
       "    }\n",
       "\n",
       "    .dataframe tbody tr th {\n",
       "        vertical-align: top;\n",
       "    }\n",
       "\n",
       "    .dataframe thead th {\n",
       "        text-align: right;\n",
       "    }\n",
       "</style>\n",
       "<table border=\"1\" class=\"dataframe\">\n",
       "  <thead>\n",
       "    <tr style=\"text-align: right;\">\n",
       "      <th></th>\n",
       "      <th>brand</th>\n",
       "      <th>model</th>\n",
       "      <th>color</th>\n",
       "      <th>registration_date</th>\n",
       "      <th>year</th>\n",
       "      <th>price_in_euro</th>\n",
       "      <th>power_kw</th>\n",
       "      <th>power_ps</th>\n",
       "      <th>transmission_type</th>\n",
       "      <th>fuel_type</th>\n",
       "      <th>fuel_consumption_l_100km</th>\n",
       "      <th>fuel_consumption_g_km</th>\n",
       "      <th>mileage_in_km</th>\n",
       "      <th>offer_description</th>\n",
       "    </tr>\n",
       "  </thead>\n",
       "  <tbody>\n",
       "    <tr>\n",
       "      <th>0</th>\n",
       "      <td>alfa-romeo</td>\n",
       "      <td>Alfa Romeo GTV</td>\n",
       "      <td>red</td>\n",
       "      <td>10/1995</td>\n",
       "      <td>1995</td>\n",
       "      <td>1300</td>\n",
       "      <td>148</td>\n",
       "      <td>201</td>\n",
       "      <td>Manual</td>\n",
       "      <td>Petrol</td>\n",
       "      <td>10,9 l/100 km</td>\n",
       "      <td>260 g/km</td>\n",
       "      <td>160500.0</td>\n",
       "      <td>2.0 V6 TB</td>\n",
       "    </tr>\n",
       "    <tr>\n",
       "      <th>1</th>\n",
       "      <td>alfa-romeo</td>\n",
       "      <td>Alfa Romeo 164</td>\n",
       "      <td>black</td>\n",
       "      <td>02/1995</td>\n",
       "      <td>1995</td>\n",
       "      <td>24900</td>\n",
       "      <td>191</td>\n",
       "      <td>260</td>\n",
       "      <td>Manual</td>\n",
       "      <td>Petrol</td>\n",
       "      <td>NaN</td>\n",
       "      <td>- (g/km)</td>\n",
       "      <td>190000.0</td>\n",
       "      <td>Q4 Allrad, 3.2L GTA</td>\n",
       "    </tr>\n",
       "    <tr>\n",
       "      <th>2</th>\n",
       "      <td>alfa-romeo</td>\n",
       "      <td>Alfa Romeo Spider</td>\n",
       "      <td>black</td>\n",
       "      <td>02/1995</td>\n",
       "      <td>1995</td>\n",
       "      <td>5900</td>\n",
       "      <td>110</td>\n",
       "      <td>150</td>\n",
       "      <td>Unknown</td>\n",
       "      <td>Petrol</td>\n",
       "      <td>NaN</td>\n",
       "      <td>- (g/km)</td>\n",
       "      <td>129000.0</td>\n",
       "      <td>ALFA ROME 916</td>\n",
       "    </tr>\n",
       "    <tr>\n",
       "      <th>3</th>\n",
       "      <td>alfa-romeo</td>\n",
       "      <td>Alfa Romeo Spider</td>\n",
       "      <td>black</td>\n",
       "      <td>07/1995</td>\n",
       "      <td>1995</td>\n",
       "      <td>4900</td>\n",
       "      <td>110</td>\n",
       "      <td>150</td>\n",
       "      <td>Manual</td>\n",
       "      <td>Petrol</td>\n",
       "      <td>9,5 l/100 km</td>\n",
       "      <td>225 g/km</td>\n",
       "      <td>189500.0</td>\n",
       "      <td>2.0 16V Twin Spark L</td>\n",
       "    </tr>\n",
       "    <tr>\n",
       "      <th>4</th>\n",
       "      <td>alfa-romeo</td>\n",
       "      <td>Alfa Romeo 164</td>\n",
       "      <td>red</td>\n",
       "      <td>11/1996</td>\n",
       "      <td>1996</td>\n",
       "      <td>17950</td>\n",
       "      <td>132</td>\n",
       "      <td>179</td>\n",
       "      <td>Manual</td>\n",
       "      <td>Petrol</td>\n",
       "      <td>7,2 l/100 km</td>\n",
       "      <td>- (g/km)</td>\n",
       "      <td>96127.0</td>\n",
       "      <td>3.0i Super V6, absoluter Topzustand !</td>\n",
       "    </tr>\n",
       "  </tbody>\n",
       "</table>\n",
       "</div>"
      ]
     },
     "execution_count": 2,
     "metadata": {},
     "output_type": "execute_result"
    }
   ],
   "execution_count": 2
  },
  {
   "metadata": {
    "ExecuteTime": {
     "end_time": "2025-02-06T20:03:15.202190Z",
     "start_time": "2025-02-06T20:03:15.139278Z"
    }
   },
   "cell_type": "code",
   "source": [
    "# большинство типов данных - object, надо провести спецификацию и заодно почистить\n",
    "car_df.info()"
   ],
   "id": "9c6186b36c29f7d9",
   "outputs": [
    {
     "name": "stdout",
     "output_type": "stream",
     "text": [
      "<class 'pandas.core.frame.DataFrame'>\n",
      "Index: 251079 entries, 0 to 251078\n",
      "Data columns (total 14 columns):\n",
      " #   Column                    Non-Null Count   Dtype  \n",
      "---  ------                    --------------   -----  \n",
      " 0   brand                     251079 non-null  object \n",
      " 1   model                     251079 non-null  object \n",
      " 2   color                     250913 non-null  object \n",
      " 3   registration_date         251075 non-null  object \n",
      " 4   year                      251079 non-null  object \n",
      " 5   price_in_euro             251079 non-null  object \n",
      " 6   power_kw                  250945 non-null  object \n",
      " 7   power_ps                  250950 non-null  object \n",
      " 8   transmission_type         251079 non-null  object \n",
      " 9   fuel_type                 251079 non-null  object \n",
      " 10  fuel_consumption_l_100km  224206 non-null  object \n",
      " 11  fuel_consumption_g_km     251079 non-null  object \n",
      " 12  mileage_in_km             250927 non-null  float64\n",
      " 13  offer_description         251078 non-null  object \n",
      "dtypes: float64(1), object(13)\n",
      "memory usage: 28.7+ MB\n"
     ]
    }
   ],
   "execution_count": 3
  },
  {
   "metadata": {
    "ExecuteTime": {
     "end_time": "2025-02-06T20:03:15.282944Z",
     "start_time": "2025-02-06T20:03:15.202930Z"
    }
   },
   "cell_type": "code",
   "source": [
    "# убираем лишний текст, чтобы привести столбцы к вычисляемому типу\n",
    "car_df[\"fuel_consumption_l_100km\"] = car_df[\"fuel_consumption_l_100km\"].apply(\n",
    "    lambda x: str(x).split(\" \")[0].replace(\",\", \".\")\n",
    ")\n",
    "car_df[\"fuel_consumption_g_km\"] = car_df[\"fuel_consumption_g_km\"].apply(\n",
    "    lambda x: str(x).split(\" \")[0].replace(\",\", \".\")\n",
    ")"
   ],
   "id": "516095660e54d555",
   "outputs": [],
   "execution_count": 4
  },
  {
   "metadata": {
    "ExecuteTime": {
     "end_time": "2025-02-06T20:03:15.574983Z",
     "start_time": "2025-02-06T20:03:15.283514Z"
    }
   },
   "cell_type": "code",
   "source": [
    "# чистим от нечисловых значений и неправильных дат\n",
    "convert_to_num = [\n",
    "    \"price_in_euro\",\n",
    "    \"power_kw\",\n",
    "    \"power_ps\",\n",
    "    \"fuel_consumption_l_100km\",\n",
    "    \"fuel_consumption_g_km\",\n",
    "]\n",
    "convert_to_dt = [\"registration_date\", \"year\"]\n",
    "\n",
    "car_df[convert_to_num] = car_df[convert_to_num].apply(pd.to_numeric, errors=\"coerce\")\n",
    "car_df[convert_to_dt] = car_df[convert_to_dt].apply(pd.to_datetime, errors=\"coerce\")\n",
    "\n",
    "# реперь датасет выглядит гораздо лучше и можно начать что-то делать с данными\n",
    "car_df.info()"
   ],
   "id": "184453287f4cb5ce",
   "outputs": [
    {
     "name": "stdout",
     "output_type": "stream",
     "text": [
      "<class 'pandas.core.frame.DataFrame'>\n",
      "Index: 251079 entries, 0 to 251078\n",
      "Data columns (total 14 columns):\n",
      " #   Column                    Non-Null Count   Dtype         \n",
      "---  ------                    --------------   -----         \n",
      " 0   brand                     251079 non-null  object        \n",
      " 1   model                     251079 non-null  object        \n",
      " 2   color                     250913 non-null  object        \n",
      " 3   registration_date         250882 non-null  datetime64[ns]\n",
      " 4   year                      250880 non-null  datetime64[ns]\n",
      " 5   price_in_euro             250880 non-null  float64       \n",
      " 6   power_kw                  250786 non-null  float64       \n",
      " 7   power_ps                  250869 non-null  float64       \n",
      " 8   transmission_type         251079 non-null  object        \n",
      " 9   fuel_type                 251079 non-null  object        \n",
      " 10  fuel_consumption_l_100km  223046 non-null  float64       \n",
      " 11  fuel_consumption_g_km     214274 non-null  float64       \n",
      " 12  mileage_in_km             250927 non-null  float64       \n",
      " 13  offer_description         251078 non-null  object        \n",
      "dtypes: datetime64[ns](2), float64(6), object(6)\n",
      "memory usage: 28.7+ MB\n"
     ]
    },
    {
     "name": "stderr",
     "output_type": "stream",
     "text": [
      "/var/folders/mk/srk2d63n62qc5h8z461_xl000000gn/T/ipykernel_4465/2026177986.py:6: UserWarning: Could not infer format, so each element will be parsed individually, falling back to `dateutil`. To ensure parsing is consistent and as-expected, please specify a format.\n",
      "  car_df[convert_to_dt] = car_df[convert_to_dt].apply(pd.to_datetime, errors='coerce')\n"
     ]
    }
   ],
   "execution_count": 5
  },
  {
   "metadata": {
    "ExecuteTime": {
     "end_time": "2025-02-06T20:04:27.114624Z",
     "start_time": "2025-02-06T20:04:27.074091Z"
    }
   },
   "cell_type": "code",
   "source": "car_df.isna().mean() * 100",
   "id": "7e8d1ff03d92cdc2",
   "outputs": [
    {
     "data": {
      "text/plain": [
       "brand                        0.000000\n",
       "model                        0.000000\n",
       "color                        0.066115\n",
       "registration_date            0.078461\n",
       "year                         0.079258\n",
       "price_in_euro                0.079258\n",
       "power_kw                     0.116696\n",
       "power_ps                     0.083639\n",
       "transmission_type            0.000000\n",
       "fuel_type                    0.000000\n",
       "fuel_consumption_l_100km    11.165012\n",
       "fuel_consumption_g_km       14.658733\n",
       "mileage_in_km                0.060539\n",
       "offer_description            0.000398\n",
       "dtype: float64"
      ]
     },
     "execution_count": 9,
     "metadata": {},
     "output_type": "execute_result"
    }
   ],
   "execution_count": 9
  },
  {
   "metadata": {
    "ExecuteTime": {
     "end_time": "2025-02-06T20:03:15.609920Z",
     "start_time": "2025-02-06T20:03:15.608367Z"
    }
   },
   "cell_type": "code",
   "source": "",
   "id": "27620c38d0838ac5",
   "outputs": [],
   "execution_count": 6
  }
 ],
 "metadata": {
  "kernelspec": {
   "display_name": "Python 3",
   "language": "python",
   "name": "python3"
  },
  "language_info": {
   "codemirror_mode": {
    "name": "ipython",
    "version": 2
   },
   "file_extension": ".py",
   "mimetype": "text/x-python",
   "name": "python",
   "nbconvert_exporter": "python",
   "pygments_lexer": "ipython2",
   "version": "2.7.6"
  }
 },
 "nbformat": 4,
 "nbformat_minor": 5
}
