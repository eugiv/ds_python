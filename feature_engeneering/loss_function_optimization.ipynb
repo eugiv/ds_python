{
 "cells": [
  {
   "cell_type": "code",
   "id": "initial_id",
   "metadata": {
    "collapsed": true,
    "ExecuteTime": {
     "end_time": "2025-08-30T19:08:26.749802Z",
     "start_time": "2025-08-30T19:08:26.744492Z"
    }
   },
   "source": [
    "from sklearn.datasets import load_iris\n",
    "import pandas as pd\n",
    "import numpy as np\n",
    "\n",
    "iris = load_iris()\n",
    "\n",
    "df = pd.DataFrame(iris.data, columns=iris.feature_names)\n",
    "df[\"target\"] = iris.target\n",
    "df = df[df[\"target\"].isin([1, 2])].reset_index(drop=True)"
   ],
   "outputs": [],
   "execution_count": 25
  },
  {
   "metadata": {
    "ExecuteTime": {
     "end_time": "2025-08-30T19:08:26.767470Z",
     "start_time": "2025-08-30T19:08:26.760562Z"
    }
   },
   "cell_type": "code",
   "source": [
    "class LogRegCust:\n",
    "    def __init__(self, learning_rate=0.01, n_iter=1000, tol=0.001, verbose=False):\n",
    "        self.learning_rate = learning_rate\n",
    "        self.n_iter = n_iter\n",
    "        self.tol = tol\n",
    "        self.verbose = verbose\n",
    "        self.weights = None\n",
    "        self.bias = None\n",
    "        self.classes = None\n",
    "        self.losses = []\n",
    "\n",
    "    def sigmoid(self, x):\n",
    "        return 1 / (1 + np.exp(-x))\n",
    "\n",
    "    def one_hot_encode(self, y):\n",
    "        self.classes = np.unique(y)\n",
    "        n_classes = len(self.classes)\n",
    "        n_samples = len(y)\n",
    "\n",
    "        encoded = np.zeros((n_samples, n_classes))\n",
    "        for i, cls in enumerate(self.classes):\n",
    "            encoded[:, i] = (y == cls).astype(int)\n",
    "        return encoded\n",
    "\n",
    "    def binary_cross_entropy(self, y_true, y_pred):\n",
    "        epsilon = 1e-15\n",
    "        y_pred = np.clip(y_pred, epsilon, 1 - epsilon)\n",
    "        return -np.mean(y_true * np.log(y_pred) + (1 - y_true) * np.log(1 - y_pred))\n",
    "\n",
    "    def fit(self, X, y):\n",
    "        X = X.values if hasattr(X, \"values\") else np.array(X)\n",
    "        y = y.values if hasattr(y, \"values\") else np.array(y)\n",
    "\n",
    "        n_samples, n_features = X.shape\n",
    "        self.classes = np.unique(y)\n",
    "        y_binary = np.where(y == self.classes[0], 0, 1)\n",
    "\n",
    "        self.weights = np.zeros(n_features)\n",
    "        self.bias = 0\n",
    "\n",
    "        # градиентный спуск\n",
    "        for iteration in range(self.n_iter):\n",
    "            linear_model = np.dot(X, self.weights) + self.bias\n",
    "            y_pred = self.sigmoid(linear_model)\n",
    "\n",
    "            loss = self.binary_cross_entropy(y_binary, y_pred)\n",
    "            self.losses.append(loss)\n",
    "\n",
    "            dw = (1 / n_samples) * np.dot(X.T, (y_pred - y_binary))\n",
    "            db = (1 / n_samples) * np.sum(y_pred - y_binary)\n",
    "\n",
    "            self.weights -= self.learning_rate * dw\n",
    "            self.bias -= self.learning_rate * db\n",
    "\n",
    "    def predict_prob(self, X):\n",
    "        X = X.values if hasattr(X, \"values\") else np.array(X)\n",
    "        linear_model = np.dot(X, self.weights) + self.bias\n",
    "        prob = self.sigmoid(linear_model)\n",
    "        return prob\n",
    "\n",
    "    def predict(self, X, threshold=0.5):\n",
    "        prob = self.predict_prob(X)\n",
    "        pred = np.where(prob >= threshold, self.classes[1], self.classes[0])\n",
    "        return pred\n",
    "\n",
    "    def score(self, X, y):\n",
    "        pred = self.predict(X)\n",
    "        y = y.values if hasattr(y, \"values\") else np.array(y)\n",
    "        return np.mean(pred == y)"
   ],
   "id": "c4b6db0e66dbe2be",
   "outputs": [],
   "execution_count": 26
  },
  {
   "metadata": {
    "ExecuteTime": {
     "end_time": "2025-08-30T19:08:26.798349Z",
     "start_time": "2025-08-30T19:08:26.778765Z"
    }
   },
   "cell_type": "code",
   "source": [
    "X = df[iris.feature_names]\n",
    "y = df[\"target\"]\n",
    "\n",
    "model = LogRegCust(learning_rate=0.1, n_iter=1000, verbose=True)\n",
    "model.fit(X, y)\n",
    "\n",
    "print(model.score(X, y))"
   ],
   "id": "10c5e6b038c9a09f",
   "outputs": [
    {
     "name": "stdout",
     "output_type": "stream",
     "text": [
      "0.97\n"
     ]
    }
   ],
   "execution_count": 27
  }
 ],
 "metadata": {
  "kernelspec": {
   "display_name": "Python 3",
   "language": "python",
   "name": "python3"
  },
  "language_info": {
   "codemirror_mode": {
    "name": "ipython",
    "version": 2
   },
   "file_extension": ".py",
   "mimetype": "text/x-python",
   "name": "python",
   "nbconvert_exporter": "python",
   "pygments_lexer": "ipython2",
   "version": "2.7.6"
  }
 },
 "nbformat": 4,
 "nbformat_minor": 5
}
