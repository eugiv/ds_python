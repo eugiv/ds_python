{
 "cells": [
  {
   "cell_type": "code",
   "id": "initial_id",
   "metadata": {
    "collapsed": true,
    "ExecuteTime": {
     "end_time": "2025-01-20T22:18:37.416241Z",
     "start_time": "2025-01-20T22:18:37.406119Z"
    }
   },
   "source": [
    "import pandas as pd\n",
    "import numpy as np\n",
    "\n",
    "# task_1\n",
    "df = pd.read_csv(\"horse_data.csv\")\n",
    "columns = [\n",
    "    \"surgery?\",\n",
    "    \"Age\",\n",
    "    \"rectal temperature\",\n",
    "    \"pulse\",\n",
    "    \"respiratory rate\",\n",
    "    \"temperature of extremities\",\n",
    "    \"pain\",\n",
    "    \"outcome\",\n",
    "]\n",
    "df = df.iloc[:, [0, 1, 3, 4, 5, 6, 10, 22]]\n",
    "\n",
    "df.columns = columns\n",
    "df.head()"
   ],
   "outputs": [
    {
     "data": {
      "text/plain": [
       "  surgery?  Age rectal temperature pulse respiratory rate  \\\n",
       "0        1    1               39.2    88               20   \n",
       "1        2    1              38.30    40               24   \n",
       "2        1    9              39.10   164               84   \n",
       "3        2    1              37.30   104               35   \n",
       "4        2    1                  ?     ?                ?   \n",
       "\n",
       "  temperature of extremities pain outcome  \n",
       "0                          ?    3       3  \n",
       "1                          1    3       1  \n",
       "2                          4    2       2  \n",
       "3                          ?    ?       2  \n",
       "4                          2    2       1  "
      ],
      "text/html": [
       "<div>\n",
       "<style scoped>\n",
       "    .dataframe tbody tr th:only-of-type {\n",
       "        vertical-align: middle;\n",
       "    }\n",
       "\n",
       "    .dataframe tbody tr th {\n",
       "        vertical-align: top;\n",
       "    }\n",
       "\n",
       "    .dataframe thead th {\n",
       "        text-align: right;\n",
       "    }\n",
       "</style>\n",
       "<table border=\"1\" class=\"dataframe\">\n",
       "  <thead>\n",
       "    <tr style=\"text-align: right;\">\n",
       "      <th></th>\n",
       "      <th>surgery?</th>\n",
       "      <th>Age</th>\n",
       "      <th>rectal temperature</th>\n",
       "      <th>pulse</th>\n",
       "      <th>respiratory rate</th>\n",
       "      <th>temperature of extremities</th>\n",
       "      <th>pain</th>\n",
       "      <th>outcome</th>\n",
       "    </tr>\n",
       "  </thead>\n",
       "  <tbody>\n",
       "    <tr>\n",
       "      <th>0</th>\n",
       "      <td>1</td>\n",
       "      <td>1</td>\n",
       "      <td>39.2</td>\n",
       "      <td>88</td>\n",
       "      <td>20</td>\n",
       "      <td>?</td>\n",
       "      <td>3</td>\n",
       "      <td>3</td>\n",
       "    </tr>\n",
       "    <tr>\n",
       "      <th>1</th>\n",
       "      <td>2</td>\n",
       "      <td>1</td>\n",
       "      <td>38.30</td>\n",
       "      <td>40</td>\n",
       "      <td>24</td>\n",
       "      <td>1</td>\n",
       "      <td>3</td>\n",
       "      <td>1</td>\n",
       "    </tr>\n",
       "    <tr>\n",
       "      <th>2</th>\n",
       "      <td>1</td>\n",
       "      <td>9</td>\n",
       "      <td>39.10</td>\n",
       "      <td>164</td>\n",
       "      <td>84</td>\n",
       "      <td>4</td>\n",
       "      <td>2</td>\n",
       "      <td>2</td>\n",
       "    </tr>\n",
       "    <tr>\n",
       "      <th>3</th>\n",
       "      <td>2</td>\n",
       "      <td>1</td>\n",
       "      <td>37.30</td>\n",
       "      <td>104</td>\n",
       "      <td>35</td>\n",
       "      <td>?</td>\n",
       "      <td>?</td>\n",
       "      <td>2</td>\n",
       "    </tr>\n",
       "    <tr>\n",
       "      <th>4</th>\n",
       "      <td>2</td>\n",
       "      <td>1</td>\n",
       "      <td>?</td>\n",
       "      <td>?</td>\n",
       "      <td>?</td>\n",
       "      <td>2</td>\n",
       "      <td>2</td>\n",
       "      <td>1</td>\n",
       "    </tr>\n",
       "  </tbody>\n",
       "</table>\n",
       "</div>"
      ]
     },
     "execution_count": 129,
     "metadata": {},
     "output_type": "execute_result"
    }
   ],
   "execution_count": 129
  },
  {
   "metadata": {
    "ExecuteTime": {
     "end_time": "2025-01-20T22:18:37.438014Z",
     "start_time": "2025-01-20T22:18:37.417607Z"
    }
   },
   "cell_type": "code",
   "source": [
    "# task_2\n",
    "df.value_counts()\n",
    "df = df.map(lambda x: pd.to_numeric(x, errors=\"coerce\"))\n",
    "df['Age'] = df['Age'].replace({9: 2})\n",
    "\n",
    "def validate_values(row, *args):\n",
    "    if row in args:\n",
    "        return row\n",
    "    else:\n",
    "        return None\n",
    "\n",
    "df[\"surgery?\"] = df[\"surgery?\"].apply(validate_values, args=(1, 2))\n",
    "df[\"Age\"] = df[\"Age\"].apply(validate_values, args=(1, 2))\n",
    "df[\"temperature of extremities\"] = df[\"temperature of extremities\"].apply(validate_values, args=(1, 2, 3, 4))\n",
    "df[\"pain\"] = df[\"pain\"].apply(validate_values, args=(1, 2, 3, 4, 5))\n",
    "df[\"outcome\"] = df[\"outcome\"].apply(validate_values, args=(1, 2, 3))\n",
    "\n",
    "def iqr_func(series):\n",
    "    q1 = series.quantile(0.25)\n",
    "    q3 = series.quantile(0.75)\n",
    "    iqr = q3 - q1\n",
    "    lower_bound = q1 - 1.5 * iqr\n",
    "    upper_bound = q3 + 1.5 * iqr\n",
    "    return series[(series >= lower_bound) & (series <= upper_bound)]\n",
    "\n",
    "print('AS IS: '+str(df['rectal temperature'].mean().round(2)))\n",
    "df['rectal temperature'] = iqr_func(df['rectal temperature'])\n",
    "print('Manual: '+str(df[(df['rectal temperature'] > 30) & (df['rectal temperature'] < 50)]['rectal temperature'].mean().round(2)))\n",
    "print('IQR_mean: '+str(df['rectal temperature'].mean().round(2)))\n",
    "print('IQR_median: '+str(df['rectal temperature'].median().round(2)))\n",
    "print('---')\n",
    "print('AS IS: '+str(df['pulse'].mean().round(2)))\n",
    "df['pulse'] = iqr_func(df['pulse'])\n",
    "print('Manual: '+str(df[(df['pulse'] > 10) & (df['pulse'] < 150)]['pulse'].mean().round(2)))\n",
    "print('IQR_mean: '+str(df['pulse'].mean().round(2)))\n",
    "print('IQR_median: '+str(df['pulse'].median().round(2)))\n",
    "print('---')\n",
    "print('AS IS: '+str(df['respiratory rate'].mean().round(2)))\n",
    "df['respiratory rate'] = iqr_func(df['respiratory rate'])\n",
    "print('Manual: '+str(df[(df['respiratory rate'] > 7) & (df['respiratory rate'] < 11)]['respiratory rate'].mean().round(2)))\n",
    "print('IQR_mean: '+str(df['respiratory rate'].mean().round(2)))\n",
    "print('IQR_median: '+str(df['respiratory rate'].median().round(2)))"
   ],
   "id": "db573581770e838e",
   "outputs": [
    {
     "name": "stdout",
     "output_type": "stream",
     "text": [
      "AS IS: 38.17\n",
      "Manual: 38.17\n",
      "IQR_mean: 38.17\n",
      "IQR_median: 38.2\n",
      "---\n",
      "AS IS: 71.93\n",
      "Manual: 70.27\n",
      "IQR_mean: 70.27\n",
      "IQR_median: 64.0\n",
      "---\n",
      "AS IS: 30.43\n",
      "Manual: 9.33\n",
      "IQR_mean: 26.71\n",
      "IQR_median: 24.0\n"
     ]
    }
   ],
   "execution_count": 130
  },
  {
   "metadata": {
    "ExecuteTime": {
     "end_time": "2025-01-20T22:18:37.441763Z",
     "start_time": "2025-01-20T22:18:37.438692Z"
    }
   },
   "cell_type": "code",
   "source": "(df.isna().mean() * 100).round(2)",
   "id": "953129179dc27426",
   "outputs": [
    {
     "data": {
      "text/plain": [
       "surgery?                       0.33\n",
       "Age                            0.00\n",
       "rectal temperature            24.75\n",
       "pulse                          9.70\n",
       "respiratory rate              25.08\n",
       "temperature of extremities    18.73\n",
       "pain                          18.39\n",
       "outcome                        0.33\n",
       "dtype: float64"
      ]
     },
     "execution_count": 131,
     "metadata": {},
     "output_type": "execute_result"
    }
   ],
   "execution_count": 131
  },
  {
   "metadata": {
    "ExecuteTime": {
     "end_time": "2025-01-20T22:18:37.449675Z",
     "start_time": "2025-01-20T22:18:37.443053Z"
    }
   },
   "cell_type": "code",
   "source": [
    "# task_3\n",
    "df = df.dropna(subset=['surgery?']) # Строки с пропущенными значениями удаляются так как это критически важный показатель для использования остальных параметров, \n",
    "                                    # его надо знать точно\n",
    "                                    \n",
    "df['rectal temperature'] = df['rectal temperature'].fillna(df['rectal temperature'].mean())  # данный параметр, судя по описанию, имеет явное нормальное распределение,\n",
    "                                                                                             # и все методы расчета считают его практически идентично, поэтому заполним средним значением\n",
    "                                                                                             \n",
    "df = df.dropna(subset=['pulse']) # Несмотря на линейность распределения, данный параметр сильно отличается для нормального состояния разных пород лошадей и так как у нас отсутствует\n",
    "                                 # категоризация пород и пропуски около 10% то лучше удалить\n",
    "                                 \n",
    "df = df.drop(columns=['respiratory rate']) # удаляем весь столбец тк, большие флуктуации данных сильно отличающихся от нормы, к тому же данный показатель не cильно важен, как сказано в                                           # документации\n",
    "\n",
    "df = df.dropna(subset=['temperature of extremities'])\n",
    "df = df.dropna(subset=['pain']) # эти 2 параметра как сказано в документации не должны рассматриваться как некие упорядоченные или дискретные величины, поэтому лучше удалить\n",
    "\n",
    "df = df.dropna(subset=['outcome']) # Строки с пропущенными значениями удаляются так как это критически важный показатель для использования остальных параметров, \n",
    "                                    # его надо знать точно\n",
    "\n",
    "(df.isna().mean() * 100).round(2)\n",
    "df.info()"
   ],
   "id": "d5b5be67d3428983",
   "outputs": [
    {
     "name": "stdout",
     "output_type": "stream",
     "text": [
      "<class 'pandas.core.frame.DataFrame'>\n",
      "Index: 203 entries, 1 to 297\n",
      "Data columns (total 7 columns):\n",
      " #   Column                      Non-Null Count  Dtype  \n",
      "---  ------                      --------------  -----  \n",
      " 0   surgery?                    203 non-null    float64\n",
      " 1   Age                         203 non-null    int64  \n",
      " 2   rectal temperature          203 non-null    float64\n",
      " 3   pulse                       203 non-null    float64\n",
      " 4   temperature of extremities  203 non-null    float64\n",
      " 5   pain                        203 non-null    float64\n",
      " 6   outcome                     203 non-null    float64\n",
      "dtypes: float64(6), int64(1)\n",
      "memory usage: 12.7 KB\n"
     ]
    }
   ],
   "execution_count": 132
  }
 ],
 "metadata": {
  "kernelspec": {
   "display_name": "Python 3",
   "language": "python",
   "name": "python3"
  },
  "language_info": {
   "codemirror_mode": {
    "name": "ipython",
    "version": 2
   },
   "file_extension": ".py",
   "mimetype": "text/x-python",
   "name": "python",
   "nbconvert_exporter": "python",
   "pygments_lexer": "ipython2",
   "version": "2.7.6"
  }
 },
 "nbformat": 4,
 "nbformat_minor": 5
}
