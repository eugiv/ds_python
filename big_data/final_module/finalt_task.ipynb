{
 "cells": [
  {
   "cell_type": "code",
   "id": "initial_id",
   "metadata": {
    "collapsed": true,
    "ExecuteTime": {
     "end_time": "2025-07-05T18:32:24.378167Z",
     "start_time": "2025-07-05T18:32:24.376110Z"
    }
   },
   "source": [
    "# from pyspark.sql import SparkSession\n",
    "#\n",
    "# spark = SparkSession.builder.master(\"local[*]\").getOrCreate()"
   ],
   "outputs": [],
   "execution_count": 27
  },
  {
   "metadata": {},
   "cell_type": "markdown",
   "source": "Task_1",
   "id": "2bd4d9722ee71078"
  },
  {
   "metadata": {
    "ExecuteTime": {
     "end_time": "2025-07-05T18:32:24.407443Z",
     "start_time": "2025-07-05T18:32:24.388163Z"
    }
   },
   "cell_type": "code",
   "source": [
    "import pandas as pd\n",
    "\n",
    "ratings_df = pd.read_csv('u.data.csv', sep='\\t', header=None,\n",
    "                     names=['user_id', 'item_id', 'rating', 'timestamp'])\n",
    "\n",
    "movies_df = pd.read_csv('u.item.csv', sep='|', header=None, names=['movie_id', 'movie_title', 'release_date', 'video_release_date', 'IMDb_URL', 'unknown', 'Action', 'Adventure', 'Animation', \"Children's\", 'Comedy', 'Crime',\n",
    "                                                                   'Documentary', 'Drama', 'Fantasy', 'Film_Noir',\n",
    "                                                                   'Horror', 'Musical', 'Mystery', 'Romance', 'Sci_fi',\n",
    "                                                                   'Thriller', 'War', 'Western'], encoding='latin1')\n"
   ],
   "id": "28ca8187f43570e4",
   "outputs": [],
   "execution_count": 28
  },
  {
   "metadata": {},
   "cell_type": "markdown",
   "source": "Task_2",
   "id": "2c3ef7062cfd1084"
  },
  {
   "metadata": {
    "ExecuteTime": {
     "end_time": "2025-07-05T18:32:24.419785Z",
     "start_time": "2025-07-05T18:32:24.416050Z"
    }
   },
   "cell_type": "code",
   "source": [
    "max_rating_user_id = ratings_df.groupby('user_id')['rating'].count().idxmax()\n",
    "print(max_rating_user_id)"
   ],
   "id": "75ebb400ebec6d2b",
   "outputs": [
    {
     "name": "stdout",
     "output_type": "stream",
     "text": [
      "405\n"
     ]
    }
   ],
   "execution_count": 29
  },
  {
   "metadata": {},
   "cell_type": "markdown",
   "source": "Task_3",
   "id": "732cc3256bdac3c9"
  },
  {
   "metadata": {
    "ExecuteTime": {
     "end_time": "2025-07-05T18:32:24.432581Z",
     "start_time": "2025-07-05T18:32:24.429099Z"
    }
   },
   "cell_type": "code",
   "source": [
    "ratings_df = ratings_df[ratings_df['user_id'] == max_rating_user_id]\n",
    "print(ratings_df.head())"
   ],
   "id": "7e61034325400fe1",
   "outputs": [
    {
     "name": "stdout",
     "output_type": "stream",
     "text": [
      "       user_id  item_id  rating  timestamp\n",
      "12276      405       56       4  885544911\n",
      "12383      405      592       1  885548670\n",
      "12430      405     1582       1  885548670\n",
      "12449      405      171       1  885549544\n",
      "12460      405      580       1  885547447\n"
     ]
    }
   ],
   "execution_count": 30
  },
  {
   "metadata": {},
   "cell_type": "markdown",
   "source": "Task_4",
   "id": "ee680b60b82865b4"
  }
 ],
 "metadata": {
  "kernelspec": {
   "display_name": "Python 3",
   "language": "python",
   "name": "python3"
  },
  "language_info": {
   "codemirror_mode": {
    "name": "ipython",
    "version": 2
   },
   "file_extension": ".py",
   "mimetype": "text/x-python",
   "name": "python",
   "nbconvert_exporter": "python",
   "pygments_lexer": "ipython2",
   "version": "2.7.6"
  }
 },
 "nbformat": 4,
 "nbformat_minor": 5
}
