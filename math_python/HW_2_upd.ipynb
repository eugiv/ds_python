{
 "nbformat": 4,
 "nbformat_minor": 0,
 "metadata": {
  "colab": {
   "name": "HW_2_upd",
   "provenance": [],
   "collapsed_sections": []
  },
  "kernelspec": {
   "name": "python3",
   "display_name": "Python 3 (ipykernel)",
   "language": "python"
  }
 },
 "cells": [
  {
   "cell_type": "markdown",
   "metadata": {
    "id": "_kX74ytuOfgy"
   },
   "source": [
    "# Домашнее задание \"Линейная алгебра. Матрицы\"."
   ]
  },
  {
   "cell_type": "markdown",
   "source": [
    "## Уровень 0:\n"
   ],
   "metadata": {
    "id": "t69IZulqTZMz"
   }
  },
  {
   "cell_type": "markdown",
   "source": [
    "### Задание 1"
   ],
   "metadata": {
    "id": "9JUikPzroAL8"
   }
  },
  {
   "cell_type": "markdown",
   "source": [
    " - Создайте матрицу 3 на 3, заполненную числами от 1 до 9\n",
    " - Прибавьте к ней матрицу с единицами на диагонале\n",
    " - Умножьте полученную матрицу на вектор (1, 2, 3)\n",
    " - Вычислить транспонированную матрицу $A^T$ от полученной в результате прибавления матрицы\n",
    " - Посчитайте обратную матрицу к полученной в результате прибавления матрице\n"
   ],
   "metadata": {
    "id": "ya8BlSO5nQ9a"
   }
  },
  {
   "cell_type": "code",
   "source": [
    "import numpy as np\n",
    "\n",
    "# 1\n",
    "my_matrix = np.random.randint(100, size=(3, 3))\n",
    "\n",
    "# 2\n",
    "sum_matrix = my_matrix + np.eye(3)\n",
    "\n",
    "# 3\n",
    "vector = [1, 2, 3]\n",
    "mult_matrix = np.dot(sum_matrix, vector)\n",
    "print(f\"mult_vector: {mult_matrix}\\n\")\n",
    "\n",
    "# 4\n",
    "transp_matrix = np.transpose(sum_matrix)\n",
    "print(f\"transpose_matrix: {transp_matrix}\\n\")\n",
    "\n",
    "# 5\n",
    "reverse_matrix = np.linalg.inv(sum_matrix)\n",
    "print(f\"reverse_matrix: {reverse_matrix}\\n\")"
   ],
   "metadata": {
    "id": "hZ34229YdNlq",
    "ExecuteTime": {
     "end_time": "2025-06-13T19:00:22.191443Z",
     "start_time": "2025-06-13T19:00:22.188369Z"
    }
   },
   "outputs": [
    {
     "name": "stdout",
     "output_type": "stream",
     "text": [
      "Mult Vector: [539. 360. 265.]\n",
      "\n",
      "Transpose Matrix: [[78. 67. 44.]\n",
      " [88. 94. 16.]\n",
      " [95. 35. 63.]]\n",
      "\n",
      "Reverse Matrix: [[-0.04929577  0.03699481  0.05378222]\n",
      " [ 0.02464789 -0.00674806 -0.03341853]\n",
      " [ 0.02816901 -0.02412386 -0.01320193]]\n",
      "\n"
     ]
    }
   ],
   "execution_count": 39
  },
  {
   "cell_type": "markdown",
   "source": [
    "## Уровень 1:"
   ],
   "metadata": {
    "id": "qZxS_tEVTapE"
   }
  },
  {
   "cell_type": "markdown",
   "source": [
    "### Задание 2"
   ],
   "metadata": {
    "id": "gUB5Tx31oDZB"
   }
  },
  {
   "cell_type": "markdown",
   "source": [
    "Найдите собственные значения и собственные вектора матрицы:\n",
    "```\n",
    "m = np.array([[2, 2],\n",
    "              [1, 3]])\n",
    "print(m)\n",
    "```\n",
    "\n"
   ],
   "metadata": {
    "id": "Jh-pEPj-TcDQ"
   }
  },
  {
   "cell_type": "code",
   "source": [
    "m = np.array([[2, 2],\n",
    "              [1, 3]])\n",
    "\n",
    "eig_values, eig_vectors = np.linalg.eig(m)\n",
    "print(f\"eig_values: {eig_values}\\n\")\n",
    "print(f\"eig_vectors: {eig_vectors}\\n\")"
   ],
   "metadata": {
    "id": "1OeJWLrpobqU",
    "ExecuteTime": {
     "end_time": "2025-06-13T19:00:22.195092Z",
     "start_time": "2025-06-13T19:00:22.192711Z"
    }
   },
   "outputs": [
    {
     "name": "stdout",
     "output_type": "stream",
     "text": [
      "Eigenvalues: [1. 4.]\n",
      "\n",
      "Eigenvectors: [[-0.89442719 -0.70710678]\n",
      " [ 0.4472136  -0.70710678]]\n",
      "\n"
     ]
    }
   ],
   "execution_count": 40
  },
  {
   "cell_type": "markdown",
   "source": [
    "### Задание 3\n"
   ],
   "metadata": {
    "id": "Tj14Nn3NOp8s"
   }
  },
  {
   "cell_type": "markdown",
   "source": [
    "Придумайте матрицу, у которой определитель = 1, и все элементы не равны 0.\n",
    "\n",
    "P.S. Матрица должна быть ненулевой и размерностью не менее 2! "
   ],
   "metadata": {
    "id": "JMjSYrp4OrpG"
   }
  },
  {
   "cell_type": "code",
   "source": [
    "def matrix_2x2(det,a,b,c):\n",
    "    d = (det + b * c) / a\n",
    "    return np.array([[a, b], [c, d]])\n",
    "\n",
    "matrix = matrix_2x2(1,2,3,1)\n",
    "print(matrix)\n",
    "print(\"matrix_determinant:\", np.linalg.det(matrix))"
   ],
   "metadata": {
    "id": "hRov-LJgOrz0",
    "ExecuteTime": {
     "end_time": "2025-06-13T19:00:22.198952Z",
     "start_time": "2025-06-13T19:00:22.196420Z"
    }
   },
   "outputs": [
    {
     "name": "stdout",
     "output_type": "stream",
     "text": [
      "[[2. 3.]\n",
      " [1. 2.]]\n",
      "Matrix Determinant: 1.0\n"
     ]
    }
   ],
   "execution_count": 41
  }
 ]
}
