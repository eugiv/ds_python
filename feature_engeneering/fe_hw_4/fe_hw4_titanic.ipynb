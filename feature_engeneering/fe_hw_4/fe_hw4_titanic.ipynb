{
 "cells": [
  {
   "cell_type": "code",
   "id": "initial_id",
   "metadata": {
    "collapsed": true,
    "ExecuteTime": {
     "end_time": "2025-09-13T17:42:47.794094Z",
     "start_time": "2025-09-13T17:42:47.776710Z"
    }
   },
   "source": [
    "import numpy as np\n",
    "import pandas as pd\n",
    "import matplotlib.pyplot as plt\n",
    "import seaborn as sns\n",
    "from sklearn.linear_model import LogisticRegression\n",
    "from sklearn.metrics import mean_absolute_percentage_error\n",
    "from sklearn.preprocessing import OneHotEncoder\n",
    "from sklearn.metrics import accuracy_score, classification_report\n",
    "from sklearn.model_selection import train_test_split\n",
    "from sklearn.metrics import precision_score, recall_score, f1_score\n",
    "\n",
    "titanic_train_df = pd.read_csv('train.csv')\n",
    "titanic_test_df = pd.read_csv('test.csv')"
   ],
   "outputs": [],
   "execution_count": 181
  },
  {
   "metadata": {
    "ExecuteTime": {
     "end_time": "2025-09-13T17:42:47.820875Z",
     "start_time": "2025-09-13T17:42:47.814229Z"
    }
   },
   "cell_type": "code",
   "source": [
    "titanic_train_df.info()\n",
    "titanic_test_df.info()"
   ],
   "id": "9350c619d09a1501",
   "outputs": [
    {
     "name": "stdout",
     "output_type": "stream",
     "text": [
      "<class 'pandas.core.frame.DataFrame'>\n",
      "RangeIndex: 891 entries, 0 to 890\n",
      "Data columns (total 12 columns):\n",
      " #   Column       Non-Null Count  Dtype  \n",
      "---  ------       --------------  -----  \n",
      " 0   PassengerId  891 non-null    int64  \n",
      " 1   Survived     891 non-null    int64  \n",
      " 2   Pclass       891 non-null    int64  \n",
      " 3   Name         891 non-null    object \n",
      " 4   Sex          891 non-null    object \n",
      " 5   Age          714 non-null    float64\n",
      " 6   SibSp        891 non-null    int64  \n",
      " 7   Parch        891 non-null    int64  \n",
      " 8   Ticket       891 non-null    object \n",
      " 9   Fare         891 non-null    float64\n",
      " 10  Cabin        204 non-null    object \n",
      " 11  Embarked     889 non-null    object \n",
      "dtypes: float64(2), int64(5), object(5)\n",
      "memory usage: 83.7+ KB\n",
      "<class 'pandas.core.frame.DataFrame'>\n",
      "RangeIndex: 418 entries, 0 to 417\n",
      "Data columns (total 11 columns):\n",
      " #   Column       Non-Null Count  Dtype  \n",
      "---  ------       --------------  -----  \n",
      " 0   PassengerId  418 non-null    int64  \n",
      " 1   Pclass       418 non-null    int64  \n",
      " 2   Name         418 non-null    object \n",
      " 3   Sex          418 non-null    object \n",
      " 4   Age          332 non-null    float64\n",
      " 5   SibSp        418 non-null    int64  \n",
      " 6   Parch        418 non-null    int64  \n",
      " 7   Ticket       418 non-null    object \n",
      " 8   Fare         417 non-null    float64\n",
      " 9   Cabin        91 non-null     object \n",
      " 10  Embarked     418 non-null    object \n",
      "dtypes: float64(2), int64(4), object(5)\n",
      "memory usage: 36.1+ KB\n"
     ]
    }
   ],
   "execution_count": 182
  },
  {
   "metadata": {
    "ExecuteTime": {
     "end_time": "2025-09-13T17:42:47.840639Z",
     "start_time": "2025-09-13T17:42:47.838141Z"
    }
   },
   "cell_type": "code",
   "source": [
    "def metrics(y_val, y_pred_val):\n",
    "    val_accuracy = accuracy_score(y_val, y_pred_val)\n",
    "    print(f\"Validation Accuracy: {val_accuracy:.4f}\")\n",
    "\n",
    "    val_recall = recall_score(y_val, y_pred_val)\n",
    "    print(f\"Recall Score: {val_recall:.4f}\")\n",
    "\n",
    "    val_precision = precision_score(y_val, y_pred_val)\n",
    "    print(f\"Precision Score: {val_precision:.4f}\")\n",
    "\n",
    "    val_f1 = f1_score(y_val, y_pred_val)\n",
    "    print(f\"F1 Score: {val_f1:.4f}\")"
   ],
   "id": "f0c6c0f3ae829326",
   "outputs": [],
   "execution_count": 183
  },
  {
   "metadata": {},
   "cell_type": "markdown",
   "source": "Удалите все пропущенные значения и категориальные переменные. Обучите модель. Выберете и посчитайте метрику качества.",
   "id": "6aca30671f2d8e2b"
  },
  {
   "metadata": {
    "ExecuteTime": {
     "end_time": "2025-09-13T17:42:47.873413Z",
     "start_time": "2025-09-13T17:42:47.856549Z"
    }
   },
   "cell_type": "code",
   "source": [
    "titanic_train_df_1 = titanic_train_df.copy()\n",
    "titanic_test_df_1 = titanic_test_df.copy()\n",
    "\n",
    "for df in [titanic_train_df_1, titanic_test_df_1]:\n",
    "    df.dropna(inplace=True)\n",
    "\n",
    "numeric_cols_train = titanic_train_df_1.select_dtypes(include=['number']).columns.tolist()\n",
    "numeric_cols_test = titanic_test_df_1.select_dtypes(include=['number']).columns.tolist()\n",
    "\n",
    "X = titanic_train_df_1[numeric_cols_train].drop('Survived', axis=1)\n",
    "y = titanic_train_df_1['Survived']\n",
    "\n",
    "X_train, X_val, y_train, y_val = train_test_split(\n",
    "    X, y, test_size=0.2, random_state=42, stratify=y\n",
    ")\n",
    "\n",
    "model = LogisticRegression(max_iter=10000, random_state=42)\n",
    "model.fit(X_train, y_train)\n",
    "y_pred_val = model.predict(X_val)\n",
    "\n",
    "metrics(y_val, y_pred_val)"
   ],
   "id": "cffa605f5218f507",
   "outputs": [
    {
     "name": "stdout",
     "output_type": "stream",
     "text": [
      "Validation Accuracy: 0.6757\n",
      "Recall Score: 0.8800\n",
      "Precision Score: 0.7097\n",
      "F1 Score: 0.7857\n"
     ]
    }
   ],
   "execution_count": 184
  },
  {
   "metadata": {},
   "cell_type": "markdown",
   "source": [
    "Удалите признаки, которые логически не нужны для построения модели. Обоснуйте.\n",
    "Проверьте данные на наличие пропущенных значений.\n",
    "a) Посчитайте, какой процент данных будет потерян, если просто удалить пропуски.\n",
    "b) Заполните пропуски: средним значением; константой; классом, указывающим на то, что значение было пропущено; случайным числом. Для разных признаков используйте подходящий метод. Можно не использовать все перечисленные методы."
   ],
   "id": "ce9ed5a4f2084d9c"
  },
  {
   "metadata": {
    "ExecuteTime": {
     "end_time": "2025-09-13T17:42:47.889889Z",
     "start_time": "2025-09-13T17:42:47.886834Z"
    }
   },
   "cell_type": "code",
   "source": [
    "def nulls_filler(df, feature, options=('mean', 'const', 'rand')):\n",
    "    df = df.copy()\n",
    "\n",
    "    if options == 'mean':\n",
    "        df[feature] = df.groupby(df.columns.drop(feature).to_list())[feature].transform('mean')\n",
    "        if df[feature].isnull().any():\n",
    "            df[feature] = df[feature].fillna(df[feature].mean())\n",
    "\n",
    "    elif options == 'const':\n",
    "        df[feature] = df[feature].fillna(42)\n",
    "    elif options == 'rand':\n",
    "        df[feature] = df[feature].fillna(np.random)\n",
    "    else:\n",
    "        df[feature] = df[feature].fillna('value_missed')\n",
    "\n",
    "    return df"
   ],
   "id": "32b2bb49547b1e21",
   "outputs": [],
   "execution_count": 185
  },
  {
   "metadata": {
    "ExecuteTime": {
     "end_time": "2025-09-13T17:42:47.914822Z",
     "start_time": "2025-09-13T17:42:47.906971Z"
    }
   },
   "cell_type": "code",
   "source": [
    "titanic_train_df_2 = titanic_train_df.copy()\n",
    "\n",
    "titanic_train_df_2.head()\n",
    "X = titanic_train_df_2.drop(['PassengerId', 'Survived', 'Name', 'Ticket', 'Cabin'], axis=1)\n",
    "y = titanic_train_df_2['Survived']\n",
    "\n",
    "data_miss_pct = (X.isnull().sum() / len(X)) * 100\n",
    "print(\"Процент потери данных: \", data_miss_pct)\n",
    "\n",
    "X['Embarked'] = X['Embarked'].fillna(X['Embarked'].mode()[0])\n",
    "X = nulls_filler(X, 'Age', options='mean')\n",
    "X.info()"
   ],
   "id": "a7f0dbf17c56c488",
   "outputs": [
    {
     "name": "stdout",
     "output_type": "stream",
     "text": [
      "Процент потери данных:  Pclass       0.000000\n",
      "Sex          0.000000\n",
      "Age         19.865320\n",
      "SibSp        0.000000\n",
      "Parch        0.000000\n",
      "Fare         0.000000\n",
      "Embarked     0.224467\n",
      "dtype: float64\n",
      "<class 'pandas.core.frame.DataFrame'>\n",
      "RangeIndex: 891 entries, 0 to 890\n",
      "Data columns (total 7 columns):\n",
      " #   Column    Non-Null Count  Dtype  \n",
      "---  ------    --------------  -----  \n",
      " 0   Pclass    891 non-null    int64  \n",
      " 1   Sex       891 non-null    object \n",
      " 2   Age       891 non-null    float64\n",
      " 3   SibSp     891 non-null    int64  \n",
      " 4   Parch     891 non-null    int64  \n",
      " 5   Fare      891 non-null    float64\n",
      " 6   Embarked  891 non-null    object \n",
      "dtypes: float64(2), int64(3), object(2)\n",
      "memory usage: 48.9+ KB\n"
     ]
    }
   ],
   "execution_count": 186
  },
  {
   "metadata": {},
   "cell_type": "markdown",
   "source": "Категориальные переменные переведите в цифровые значения",
   "id": "31a0d956a13b1813"
  },
  {
   "metadata": {
    "ExecuteTime": {
     "end_time": "2025-09-13T17:42:47.935429Z",
     "start_time": "2025-09-13T17:42:47.929602Z"
    }
   },
   "cell_type": "code",
   "source": [
    "X = pd.get_dummies(X, columns=['Sex', 'Embarked'], drop_first=True)\n",
    "X.head()"
   ],
   "id": "f05d6fa681ccab49",
   "outputs": [
    {
     "data": {
      "text/plain": [
       "   Pclass        Age  SibSp  Parch     Fare  Sex_male  Embarked_Q  Embarked_S\n",
       "0       3  22.000000      1      0   7.2500      True       False        True\n",
       "1       1  38.000000      1      0  71.2833     False       False       False\n",
       "2       3  25.333333      0      0   7.9250     False       False        True\n",
       "3       1  34.000000      1      0  53.1000     False       False        True\n",
       "4       3  30.706897      0      0   8.0500      True       False        True"
      ],
      "text/html": [
       "<div>\n",
       "<style scoped>\n",
       "    .dataframe tbody tr th:only-of-type {\n",
       "        vertical-align: middle;\n",
       "    }\n",
       "\n",
       "    .dataframe tbody tr th {\n",
       "        vertical-align: top;\n",
       "    }\n",
       "\n",
       "    .dataframe thead th {\n",
       "        text-align: right;\n",
       "    }\n",
       "</style>\n",
       "<table border=\"1\" class=\"dataframe\">\n",
       "  <thead>\n",
       "    <tr style=\"text-align: right;\">\n",
       "      <th></th>\n",
       "      <th>Pclass</th>\n",
       "      <th>Age</th>\n",
       "      <th>SibSp</th>\n",
       "      <th>Parch</th>\n",
       "      <th>Fare</th>\n",
       "      <th>Sex_male</th>\n",
       "      <th>Embarked_Q</th>\n",
       "      <th>Embarked_S</th>\n",
       "    </tr>\n",
       "  </thead>\n",
       "  <tbody>\n",
       "    <tr>\n",
       "      <th>0</th>\n",
       "      <td>3</td>\n",
       "      <td>22.000000</td>\n",
       "      <td>1</td>\n",
       "      <td>0</td>\n",
       "      <td>7.2500</td>\n",
       "      <td>True</td>\n",
       "      <td>False</td>\n",
       "      <td>True</td>\n",
       "    </tr>\n",
       "    <tr>\n",
       "      <th>1</th>\n",
       "      <td>1</td>\n",
       "      <td>38.000000</td>\n",
       "      <td>1</td>\n",
       "      <td>0</td>\n",
       "      <td>71.2833</td>\n",
       "      <td>False</td>\n",
       "      <td>False</td>\n",
       "      <td>False</td>\n",
       "    </tr>\n",
       "    <tr>\n",
       "      <th>2</th>\n",
       "      <td>3</td>\n",
       "      <td>25.333333</td>\n",
       "      <td>0</td>\n",
       "      <td>0</td>\n",
       "      <td>7.9250</td>\n",
       "      <td>False</td>\n",
       "      <td>False</td>\n",
       "      <td>True</td>\n",
       "    </tr>\n",
       "    <tr>\n",
       "      <th>3</th>\n",
       "      <td>1</td>\n",
       "      <td>34.000000</td>\n",
       "      <td>1</td>\n",
       "      <td>0</td>\n",
       "      <td>53.1000</td>\n",
       "      <td>False</td>\n",
       "      <td>False</td>\n",
       "      <td>True</td>\n",
       "    </tr>\n",
       "    <tr>\n",
       "      <th>4</th>\n",
       "      <td>3</td>\n",
       "      <td>30.706897</td>\n",
       "      <td>0</td>\n",
       "      <td>0</td>\n",
       "      <td>8.0500</td>\n",
       "      <td>True</td>\n",
       "      <td>False</td>\n",
       "      <td>True</td>\n",
       "    </tr>\n",
       "  </tbody>\n",
       "</table>\n",
       "</div>"
      ]
     },
     "execution_count": 187,
     "metadata": {},
     "output_type": "execute_result"
    }
   ],
   "execution_count": 187
  },
  {
   "metadata": {},
   "cell_type": "markdown",
   "source": [
    "Проверьте данные на наличие выбросов.\n",
    "Удалите выбросы, если считаете это целесообразным. Обоснуйте."
   ],
   "id": "4bc0829fd4277dcc"
  },
  {
   "metadata": {
    "ExecuteTime": {
     "end_time": "2025-09-13T17:42:48.082312Z",
     "start_time": "2025-09-13T17:42:47.968911Z"
    }
   },
   "cell_type": "code",
   "source": [
    "fig, axes = plt.subplots(1, 3, figsize=(15, 5))\n",
    "\n",
    "for i, feature in enumerate(['Age', 'Pclass', 'Fare']):\n",
    "    sns.boxplot(y=X[feature], ax=axes[i])\n",
    "    axes[i].set_title(f'{feature}')\n",
    "\n",
    "plt.tight_layout()\n",
    "plt.show()"
   ],
   "id": "936e9dd5ee61bdb",
   "outputs": [
    {
     "data": {
      "text/plain": [
       "<Figure size 1500x500 with 3 Axes>"
      ],
      "image/png": "[encoded data removed]"
     },
     "metadata": {},
     "output_type": "display_data"
    }
   ],
   "execution_count": 188
  },
  {
   "metadata": {
    "ExecuteTime": {
     "end_time": "2025-09-13T17:42:48.154493Z",
     "start_time": "2025-09-13T17:42:48.111064Z"
    }
   },
   "cell_type": "code",
   "source": "X['Fare'].hist(bins=10, edgecolor='k')",
   "id": "9af56074993f5ed4",
   "outputs": [
    {
     "data": {
      "text/plain": [
       "<Axes: >"
      ]
     },
     "execution_count": 189,
     "metadata": {},
     "output_type": "execute_result"
    },
    {
     "data": {
      "text/plain": [
       "<Figure size 640x480 with 1 Axes>"
      ],
      "image/png": "[encoded data removed]"
     },
     "metadata": {},
     "output_type": "display_data"
    }
   ],
   "execution_count": 189
  }
 ],
 "metadata": {
  "kernelspec": {
   "display_name": "Python 3",
   "language": "python",
   "name": "python3"
  },
  "language_info": {
   "codemirror_mode": {
    "name": "ipython",
    "version": 2
   },
   "file_extension": ".py",
   "mimetype": "text/x-python",
   "name": "python",
   "nbconvert_exporter": "python",
   "pygments_lexer": "ipython2",
   "version": "2.7.6"
  }
 },
 "nbformat": 4,
 "nbformat_minor": 5
}
