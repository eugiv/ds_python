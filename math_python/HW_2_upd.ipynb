{
 "nbformat": 4,
 "nbformat_minor": 0,
 "metadata": {
  "colab": {
   "name": "HW_2_upd",
   "provenance": [],
   "collapsed_sections": []
  },
  "kernelspec": {
   "name": "python3",
   "display_name": "Python 3 (ipykernel)",
   "language": "python"
  }
 },
 "cells": [
  {
   "cell_type": "markdown",
   "metadata": {
    "id": "_kX74ytuOfgy"
   },
   "source": [
    "# Домашнее задание \"Линейная алгебра. Матрицы\"."
   ]
  },
  {
   "cell_type": "markdown",
   "source": [
    "## Уровень 0:\n"
   ],
   "metadata": {
    "id": "t69IZulqTZMz"
   }
  },
  {
   "cell_type": "markdown",
   "source": [
    "### Задание 1"
   ],
   "metadata": {
    "id": "9JUikPzroAL8"
   }
  },
  {
   "cell_type": "markdown",
   "source": [
    " - Создайте матрицу 3 на 3, заполненную числами от 1 до 9\n",
    " - Прибавьте к ней матрицу с единицами на диагонале\n",
    " - Умножьте полученную матрицу на вектор (1, 2, 3)\n",
    " - Вычислить транспонированную матрицу $A^T$ от полученной в результате прибавления матрицы\n",
    " - Посчитайте обратную матрицу к полученной в результате прибавления матрице\n"
   ],
   "metadata": {
    "id": "ya8BlSO5nQ9a"
   }
  },
  {
   "cell_type": "code",
   "source": [
    "import numpy as np\n",
    "\n",
    "# 1\n",
    "my_matrix = np.random.randint(100, size=(3, 3))\n",
    "\n",
    "# 2\n",
    "sum_matrix = my_matrix + np.eye(3)\n",
    "\n",
    "# 3\n",
    "vector = [1, 2, 3]\n",
    "mult_matrix = np.dot(sum_matrix, vector)\n",
    "print(f\"mult_vector: {mult_matrix}\\n\")\n",
    "\n",
    "# 4\n",
    "transp_matrix = np.transpose(sum_matrix)\n",
    "print(f\"transpose_matrix: {transp_matrix}\\n\")\n",
    "\n",
    "# 5\n",
    "reverse_matrix = np.linalg.inv(sum_matrix)\n",
    "print(f\"reverse_matrix: {reverse_matrix}\\n\")"
   ],
   "metadata": {
    "id": "hZ34229YdNlq",
    "ExecuteTime": {
     "end_time": "2025-06-13T19:14:34.044478Z",
     "start_time": "2025-06-13T19:14:34.041361Z"
    }
   },
   "outputs": [
    {
     "name": "stdout",
     "output_type": "stream",
     "text": [
      "mult_vector: [226. 100. 198.]\n",
      "\n",
      "transpose_matrix: [[25. 89. 76.]\n",
      " [45.  1. 46.]\n",
      " [37.  3. 10.]]\n",
      "\n",
      "reverse_matrix: [[-0.00110654  0.01082333  0.00084719]\n",
      " [-0.00572288 -0.02214807  0.02781908]\n",
      " [ 0.03473495  0.01962378 -0.03440645]]\n",
      "\n"
     ]
    }
   ],
   "execution_count": 48
  },
  {
   "cell_type": "markdown",
   "source": [
    "## Уровень 1:"
   ],
   "metadata": {
    "id": "qZxS_tEVTapE"
   }
  },
  {
   "cell_type": "markdown",
   "source": [
    "### Задание 2"
   ],
   "metadata": {
    "id": "gUB5Tx31oDZB"
   }
  },
  {
   "cell_type": "markdown",
   "source": [
    "Найдите собственные значения и собственные вектора матрицы:\n",
    "```\n",
    "m = np.array([[2, 2],\n",
    "              [1, 3]])\n",
    "print(m)\n",
    "```\n",
    "\n"
   ],
   "metadata": {
    "id": "Jh-pEPj-TcDQ"
   }
  },
  {
   "cell_type": "code",
   "source": [
    "m = np.array([[2, 2],\n",
    "              [1, 3]])\n",
    "\n",
    "eig_values, eig_vectors = np.linalg.eig(m)\n",
    "print(f\"eig_values: {eig_values}\\n\")\n",
    "print(f\"eig_vectors: {eig_vectors}\\n\")"
   ],
   "metadata": {
    "id": "1OeJWLrpobqU",
    "ExecuteTime": {
     "end_time": "2025-06-13T19:14:34.047792Z",
     "start_time": "2025-06-13T19:14:34.045704Z"
    }
   },
   "outputs": [
    {
     "name": "stdout",
     "output_type": "stream",
     "text": [
      "eig_values: [1. 4.]\n",
      "\n",
      "eig_vectors: [[-0.89442719 -0.70710678]\n",
      " [ 0.4472136  -0.70710678]]\n",
      "\n"
     ]
    }
   ],
   "execution_count": 49
  },
  {
   "cell_type": "markdown",
   "source": [
    "### Задание 3\n"
   ],
   "metadata": {
    "id": "Tj14Nn3NOp8s"
   }
  },
  {
   "cell_type": "markdown",
   "source": [
    "Придумайте матрицу, у которой определитель = 1, и все элементы не равны 0.\n",
    "\n",
    "P.S. Матрица должна быть ненулевой и размерностью не менее 2! "
   ],
   "metadata": {
    "id": "JMjSYrp4OrpG"
   }
  },
  {
   "cell_type": "code",
   "source": [
    "def matrix_2x2(det,a,b,c):\n",
    "    d = (det + b * c) / a\n",
    "    return np.array([[a, b], [c, d]])\n",
    "\n",
    "matrix = matrix_2x2(1,2,3,1)\n",
    "print(matrix)\n",
    "print(\"matrix_determinant:\", np.linalg.det(matrix))"
   ],
   "metadata": {
    "id": "hRov-LJgOrz0",
    "ExecuteTime": {
     "end_time": "2025-06-13T19:14:34.050421Z",
     "start_time": "2025-06-13T19:14:34.048422Z"
    }
   },
   "outputs": [
    {
     "name": "stdout",
     "output_type": "stream",
     "text": [
      "[[2. 3.]\n",
      " [1. 2.]]\n",
      "matrix_determinant: 1.0\n"
     ]
    }
   ],
   "execution_count": 50
  }
 ]
}
