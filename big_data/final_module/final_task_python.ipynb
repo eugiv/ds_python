{
 "cells": [
  {
   "metadata": {},
   "cell_type": "markdown",
   "source": "Task_1",
   "id": "2bd4d9722ee71078"
  },
  {
   "metadata": {
    "ExecuteTime": {
     "end_time": "2025-07-05T22:41:03.400056Z",
     "start_time": "2025-07-05T22:41:03.369548Z"
    }
   },
   "cell_type": "code",
   "source": [
    "import pandas as pd\n",
    "import numpy as np\n",
    "from sklearn.model_selection import train_test_split\n",
    "from sklearn.linear_model import LinearRegression\n",
    "from sklearn.metrics import (\n",
    "    mean_absolute_error,\n",
    "    mean_squared_error,\n",
    "    r2_score,\n",
    "    mean_absolute_percentage_error,\n",
    ")\n",
    "\n",
    "ratings_df = pd.read_csv(\n",
    "    \"u.data.csv\",\n",
    "    sep=\"\\t\",\n",
    "    header=None,\n",
    "    names=[\"user_id\", \"item_id\", \"rating\", \"timestamp\"],\n",
    ")\n",
    "\n",
    "movies_df = pd.read_csv(\n",
    "    \"u.item.csv\",\n",
    "    sep=\"|\",\n",
    "    header=None,\n",
    "    names=[\n",
    "        \"movie_id\",\n",
    "        \"movie_title\",\n",
    "        \"release_date\",\n",
    "        \"video_release_date\",\n",
    "        \"IMDb_URL\",\n",
    "        \"unknown\",\n",
    "        \"Action\",\n",
    "        \"Adventure\",\n",
    "        \"Animation\",\n",
    "        \"Children's\",\n",
    "        \"Comedy\",\n",
    "        \"Crime\",\n",
    "        \"Documentary\",\n",
    "        \"Drama\",\n",
    "        \"Fantasy\",\n",
    "        \"Film_Noir\",\n",
    "        \"Horror\",\n",
    "        \"Musical\",\n",
    "        \"Mystery\",\n",
    "        \"Romance\",\n",
    "        \"Sci_fi\",\n",
    "        \"Thriller\",\n",
    "        \"War\",\n",
    "        \"Western\",\n",
    "    ],\n",
    "    encoding=\"latin1\",\n",
    ")"
   ],
   "id": "28ca8187f43570e4",
   "outputs": [],
   "execution_count": 409
  },
  {
   "metadata": {},
   "cell_type": "markdown",
   "source": "Task_2",
   "id": "2c3ef7062cfd1084"
  },
  {
   "metadata": {
    "ExecuteTime": {
     "end_time": "2025-07-05T22:41:03.422297Z",
     "start_time": "2025-07-05T22:41:03.419196Z"
    }
   },
   "cell_type": "code",
   "source": [
    "max_rating_user_id = ratings_df.groupby(\"user_id\")[\"rating\"].count().idxmax()\n",
    "print(max_rating_user_id)"
   ],
   "id": "75ebb400ebec6d2b",
   "outputs": [
    {
     "name": "stdout",
     "output_type": "stream",
     "text": [
      "405\n"
     ]
    }
   ],
   "execution_count": 410
  },
  {
   "metadata": {},
   "cell_type": "markdown",
   "source": "Task_3",
   "id": "732cc3256bdac3c9"
  },
  {
   "metadata": {
    "ExecuteTime": {
     "end_time": "2025-07-05T22:41:03.488648Z",
     "start_time": "2025-07-05T22:41:03.482466Z"
    }
   },
   "cell_type": "code",
   "source": [
    "ratings_df[\"ttl_ratings_count\"] = ratings_df.groupby(\"item_id\")[\"rating\"].transform(\n",
    "    \"count\"\n",
    ")\n",
    "ratings_df[\"ttl_ratings_sum\"] = ratings_df.groupby(\"item_id\")[\"rating\"].transform(\"sum\")\n",
    "\n",
    "ratings_df = ratings_df[ratings_df[\"user_id\"] == max_rating_user_id]\n",
    "ratings_df = ratings_df[[\"item_id\", \"rating\", \"ttl_ratings_count\", \"ttl_ratings_sum\"]]\n",
    "print(ratings_df.head())"
   ],
   "id": "7e61034325400fe1",
   "outputs": [
    {
     "name": "stdout",
     "output_type": "stream",
     "text": [
      "       item_id  rating  ttl_ratings_count  ttl_ratings_sum\n",
      "12276       56       4                394             1600\n",
      "12383      592       1                  9               30\n",
      "12430     1582       1                  1                1\n",
      "12449      171       1                 65              252\n",
      "12460      580       1                 32              108\n"
     ]
    }
   ],
   "execution_count": 411
  },
  {
   "metadata": {},
   "cell_type": "markdown",
   "source": "Task_4",
   "id": "ee680b60b82865b4"
  },
  {
   "metadata": {
    "ExecuteTime": {
     "end_time": "2025-07-05T22:41:03.529092Z",
     "start_time": "2025-07-05T22:41:03.524456Z"
    }
   },
   "cell_type": "code",
   "source": [
    "ratings_df = ratings_df.merge(\n",
    "    movies_df, how=\"inner\", left_on=\"item_id\", right_on=\"movie_id\"\n",
    ")\n",
    "print(ratings_df.info())"
   ],
   "id": "48b7b165ed50485a",
   "outputs": [
    {
     "name": "stdout",
     "output_type": "stream",
     "text": [
      "<class 'pandas.core.frame.DataFrame'>\n",
      "RangeIndex: 737 entries, 0 to 736\n",
      "Data columns (total 28 columns):\n",
      " #   Column              Non-Null Count  Dtype  \n",
      "---  ------              --------------  -----  \n",
      " 0   item_id             737 non-null    int64  \n",
      " 1   rating              737 non-null    int64  \n",
      " 2   ttl_ratings_count   737 non-null    int64  \n",
      " 3   ttl_ratings_sum     737 non-null    int64  \n",
      " 4   movie_id            737 non-null    int64  \n",
      " 5   movie_title         737 non-null    object \n",
      " 6   release_date        737 non-null    object \n",
      " 7   video_release_date  0 non-null      float64\n",
      " 8   IMDb_URL            736 non-null    object \n",
      " 9   unknown             737 non-null    int64  \n",
      " 10  Action              737 non-null    int64  \n",
      " 11  Adventure           737 non-null    int64  \n",
      " 12  Animation           737 non-null    int64  \n",
      " 13  Children's          737 non-null    int64  \n",
      " 14  Comedy              737 non-null    int64  \n",
      " 15  Crime               737 non-null    int64  \n",
      " 16  Documentary         737 non-null    int64  \n",
      " 17  Drama               737 non-null    int64  \n",
      " 18  Fantasy             737 non-null    int64  \n",
      " 19  Film_Noir           737 non-null    int64  \n",
      " 20  Horror              737 non-null    int64  \n",
      " 21  Musical             737 non-null    int64  \n",
      " 22  Mystery             737 non-null    int64  \n",
      " 23  Romance             737 non-null    int64  \n",
      " 24  Sci_fi              737 non-null    int64  \n",
      " 25  Thriller            737 non-null    int64  \n",
      " 26  War                 737 non-null    int64  \n",
      " 27  Western             737 non-null    int64  \n",
      "dtypes: float64(1), int64(24), object(3)\n",
      "memory usage: 161.3+ KB\n",
      "None\n"
     ]
    }
   ],
   "execution_count": 412
  },
  {
   "metadata": {},
   "cell_type": "markdown",
   "source": "Task_5",
   "id": "30e0f37cb161cc45"
  },
  {
   "metadata": {
    "ExecuteTime": {
     "end_time": "2025-07-05T22:41:03.570323Z",
     "start_time": "2025-07-05T22:41:03.565433Z"
    }
   },
   "cell_type": "code",
   "source": [
    "ratings_df[\"release_date\"] = pd.to_datetime(ratings_df[\"release_date\"])\n",
    "ratings_df[\"release_year\"] = ratings_df[\"release_date\"].dt.year\n",
    "\n",
    "features = [\n",
    "    \"release_year\",\n",
    "    \"ttl_ratings_count\",\n",
    "    \"ttl_ratings_sum\",\n",
    "] + ratings_df.columns[9:].tolist()\n",
    "X = ratings_df[features]\n",
    "y = ratings_df[\"rating\"]\n",
    "\n",
    "X_train, X_test, y_train, y_test = train_test_split(\n",
    "    X, y, test_size=0.2, random_state=42\n",
    ")\n",
    "print(f\"X_train: {X_train.shape}, y_train: {y_train.shape}\")\n",
    "print(f\"X_test: {X_test.shape}, y_test: {y_test.shape}\")"
   ],
   "id": "85993ecb559744df",
   "outputs": [
    {
     "name": "stdout",
     "output_type": "stream",
     "text": [
      "X_train: (589, 23), y_train: (589,)\n",
      "X_test: (148, 23), y_test: (148,)\n"
     ]
    }
   ],
   "execution_count": 413
  },
  {
   "metadata": {},
   "cell_type": "markdown",
   "source": "Task_6",
   "id": "28c0721791c46ebc"
  },
  {
   "metadata": {
    "ExecuteTime": {
     "end_time": "2025-07-05T22:41:03.609391Z",
     "start_time": "2025-07-05T22:41:03.605920Z"
    }
   },
   "cell_type": "code",
   "source": [
    "model = LinearRegression()\n",
    "model.fit(X_train, y_train)\n",
    "\n",
    "y_pred = model.predict(X_test)"
   ],
   "id": "9d9ee86a9f73fdf8",
   "outputs": [],
   "execution_count": 414
  },
  {
   "metadata": {},
   "cell_type": "markdown",
   "source": "Task_7",
   "id": "62aafe7e79e60e4a"
  },
  {
   "metadata": {
    "ExecuteTime": {
     "end_time": "2025-07-05T22:41:03.647361Z",
     "start_time": "2025-07-05T22:41:03.644113Z"
    }
   },
   "cell_type": "code",
   "source": [
    "print(f\"MAE: {round(mean_absolute_error(y_test, y_pred),2)}\")\n",
    "print(f\"MSE: {round(mean_squared_error(y_test, y_pred), 2)}\")\n",
    "print(f\"RMSE: {round(np.sqrt(mean_squared_error(y_test, y_pred)),2)}\")\n",
    "print(f\"R²: {round(r2_score(y_test, y_pred),2)}\")\n",
    "print(f\"MAPE: {round(mean_absolute_percentage_error(y_test, y_pred) * 100, 2)}\")"
   ],
   "id": "a9e90243f417b8a",
   "outputs": [
    {
     "name": "stdout",
     "output_type": "stream",
     "text": [
      "MAE: 0.95\n",
      "MSE: 1.7\n",
      "RMSE: 1.3\n",
      "R²: 0.16\n",
      "MAPE: 55.46\n"
     ]
    }
   ],
   "execution_count": 415
  },
  {
   "metadata": {},
   "cell_type": "markdown",
   "source": "Task_8",
   "id": "4797152127a354ce"
  },
  {
   "metadata": {
    "ExecuteTime": {
     "end_time": "2025-07-05T22:41:03.849908Z",
     "start_time": "2025-07-05T22:41:03.682448Z"
    }
   },
   "cell_type": "code",
   "source": [
    "from pyspark.sql import SparkSession\n",
    "from pyspark.sql.functions import avg, col, count\n",
    "\n",
    "spark = SparkSession.builder.master(\"local[*]\").getOrCreate()\n",
    "\n",
    "ratings_df = spark.read.csv(\n",
    "    \"u.data.csv\", sep=\"\\t\", header=False, inferSchema=True\n",
    ").toDF(\"user_id\", \"item_id\", \"rating\", \"timestamp\")\n",
    "\n",
    "\n",
    "movies_df = spark.read.csv(\n",
    "    \"u.item.csv\", sep=\"|\", header=False, inferSchema=True, encoding=\"ISO-8859-1\"\n",
    ").toDF(\n",
    "    \"movie_id\",\n",
    "    \"movie_title\",\n",
    "    \"release_date\",\n",
    "    \"video_release_date\",\n",
    "    \"IMDb_URL\",\n",
    "    \"unknown\",\n",
    "    \"Action\",\n",
    "    \"Adventure\",\n",
    "    \"Animation\",\n",
    "    \"Children's\",\n",
    "    \"Comedy\",\n",
    "    \"Crime\",\n",
    "    \"Documentary\",\n",
    "    \"Drama\",\n",
    "    \"Fantasy\",\n",
    "    \"Film_Noir\",\n",
    "    \"Horror\",\n",
    "    \"Musical\",\n",
    "    \"Mystery\",\n",
    "    \"Romance\",\n",
    "    \"Sci_fi\",\n",
    "    \"Thriller\",\n",
    "    \"War\",\n",
    "    \"Western\",\n",
    ")\n",
    "\n",
    "print(ratings_df.dtypes)\n",
    "print(movies_df.dtypes)"
   ],
   "id": "3b3933578d5a4a65",
   "outputs": [
    {
     "name": "stdout",
     "output_type": "stream",
     "text": [
      "[('user_id', 'int'), ('item_id', 'int'), ('rating', 'int'), ('timestamp', 'int')]\n",
      "[('movie_id', 'int'), ('movie_title', 'string'), ('release_date', 'string'), ('video_release_date', 'string'), ('IMDb_URL', 'string'), ('unknown', 'int'), ('Action', 'int'), ('Adventure', 'int'), ('Animation', 'int'), (\"Children's\", 'int'), ('Comedy', 'int'), ('Crime', 'int'), ('Documentary', 'int'), ('Drama', 'int'), ('Fantasy', 'int'), ('Film_Noir', 'int'), ('Horror', 'int'), ('Musical', 'int'), ('Mystery', 'int'), ('Romance', 'int'), ('Sci_fi', 'int'), ('Thriller', 'int'), ('War', 'int'), ('Western', 'int')]\n"
     ]
    }
   ],
   "execution_count": 416
  },
  {
   "metadata": {},
   "cell_type": "markdown",
   "source": "Task_9",
   "id": "290a2d663fcecf59"
  },
  {
   "metadata": {
    "ExecuteTime": {
     "end_time": "2025-07-05T22:41:04.076802Z",
     "start_time": "2025-07-05T22:41:03.882033Z"
    }
   },
   "cell_type": "code",
   "source": [
    "joined_df = ratings_df.join(\n",
    "    movies_df,\n",
    "    ratings_df[\"item_id\"] == movies_df[\"movie_id\"],\n",
    ")\n",
    "\n",
    "avg_ratings = (\n",
    "    joined_df.groupBy(\"movie_id\")\n",
    "    .agg(avg(\"rating\").alias(\"avg_rating\"))\n",
    "    .orderBy(\"avg_rating\", ascending=False)\n",
    ")\n",
    "avg_ratings.show(5)"
   ],
   "id": "89896fc79af39f25",
   "outputs": [
    {
     "name": "stdout",
     "output_type": "stream",
     "text": [
      "+--------+----------+\n",
      "|movie_id|avg_rating|\n",
      "+--------+----------+\n",
      "|    1599|       5.0|\n",
      "|    1467|       5.0|\n",
      "|    1500|       5.0|\n",
      "|    1653|       5.0|\n",
      "|    1122|       5.0|\n",
      "+--------+----------+\n",
      "only showing top 5 rows\n",
      "\n"
     ]
    }
   ],
   "execution_count": 417
  },
  {
   "metadata": {},
   "cell_type": "markdown",
   "source": "Task_10",
   "id": "286ce2cbc8aa84e5"
  },
  {
   "metadata": {
    "ExecuteTime": {
     "end_time": "2025-07-05T22:41:06.651782Z",
     "start_time": "2025-07-05T22:41:04.112152Z"
    }
   },
   "cell_type": "code",
   "source": [
    "genres = joined_df.columns[9:]\n",
    "\n",
    "for genre in genres:\n",
    "    avg_rating = (\n",
    "        joined_df.filter(col(genre) == 1)\n",
    "        .agg(avg(\"rating\").alias(\"avg_rating\"))\n",
    "        .first()[\"avg_rating\"]\n",
    "    )\n",
    "    print(f\"{genre}: {round(avg_rating, 2)}\")"
   ],
   "id": "236dd037a169dec7",
   "outputs": [
    {
     "name": "stdout",
     "output_type": "stream",
     "text": [
      "unknown: 3.2\n",
      "Action: 3.48\n",
      "Adventure: 3.5\n",
      "Animation: 3.58\n",
      "Children's: 3.35\n",
      "Comedy: 3.39\n",
      "Crime: 3.63\n",
      "Documentary: 3.67\n",
      "Drama: 3.69\n",
      "Fantasy: 3.22\n",
      "Film_Noir: 3.92\n",
      "Horror: 3.29\n",
      "Musical: 3.52\n",
      "Mystery: 3.64\n",
      "Romance: 3.62\n",
      "Sci_fi: 3.56\n",
      "Thriller: 3.51\n",
      "War: 3.82\n",
      "Western: 3.61\n"
     ]
    }
   ],
   "execution_count": 418
  },
  {
   "metadata": {},
   "cell_type": "markdown",
   "source": "Task_11",
   "id": "f7ea7fd3eef5c943"
  },
  {
   "metadata": {
    "ExecuteTime": {
     "end_time": "2025-07-05T22:41:06.896178Z",
     "start_time": "2025-07-05T22:41:06.685504Z"
    }
   },
   "cell_type": "code",
   "source": [
    "movies_popularity = joined_df.groupBy(\"movie_id\", \"movie_title\").agg(\n",
    "    count(\"rating\").alias(\"rating_count\"), avg(\"rating\").alias(\"avg_rating\")\n",
    ")\n",
    "\n",
    "top5_popular = movies_popularity.orderBy(col(\"rating_count\").desc()).limit(5).show()\n",
    "top5_unpopular = movies_popularity.orderBy(col(\"rating_count\").asc()).limit(5)"
   ],
   "id": "3eb03f31545fc236",
   "outputs": [
    {
     "name": "stdout",
     "output_type": "stream",
     "text": [
      "+--------+--------------------+------------+------------------+\n",
      "|movie_id|         movie_title|rating_count|        avg_rating|\n",
      "+--------+--------------------+------------+------------------+\n",
      "|      50|    Star Wars (1977)|         583|4.3584905660377355|\n",
      "|     258|      Contact (1997)|         509|3.8035363457760316|\n",
      "|     100|        Fargo (1996)|         508| 4.155511811023622|\n",
      "|     181|Return of the Jed...|         507| 4.007889546351085|\n",
      "|     294|    Liar Liar (1997)|         485| 3.156701030927835|\n",
      "+--------+--------------------+------------+------------------+\n",
      "\n"
     ]
    }
   ],
   "execution_count": 419
  }
 ],
 "metadata": {
  "kernelspec": {
   "display_name": "Python 3",
   "language": "python",
   "name": "python3"
  },
  "language_info": {
   "codemirror_mode": {
    "name": "ipython",
    "version": 2
   },
   "file_extension": ".py",
   "mimetype": "text/x-python",
   "name": "python",
   "nbconvert_exporter": "python",
   "pygments_lexer": "ipython2",
   "version": "2.7.6"
  }
 },
 "nbformat": 4,
 "nbformat_minor": 5
}
