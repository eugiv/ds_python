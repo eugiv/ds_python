{
 "cells": [
  {
   "cell_type": "code",
   "id": "initial_id",
   "metadata": {
    "collapsed": true,
    "ExecuteTime": {
     "end_time": "2025-09-14T13:27:53.146974Z",
     "start_time": "2025-09-14T13:27:53.137748Z"
    }
   },
   "source": [
    "import numpy as np\n",
    "import pandas as pd\n",
    "import matplotlib.pyplot as plt\n",
    "import seaborn as sns\n",
    "from sklearn.linear_model import LogisticRegression\n",
    "from sklearn.metrics import accuracy_score\n",
    "from sklearn.model_selection import train_test_split\n",
    "from sklearn.metrics import precision_score, recall_score, f1_score\n",
    "\n",
    "titanic_train_df = pd.read_csv(\"train.csv\")\n",
    "titanic_test_df = pd.read_csv(\"test.csv\")"
   ],
   "outputs": [],
   "execution_count": 188
  },
  {
   "metadata": {
    "ExecuteTime": {
     "end_time": "2025-09-14T13:27:53.177699Z",
     "start_time": "2025-09-14T13:27:53.171903Z"
    }
   },
   "cell_type": "code",
   "source": [
    "titanic_train_df.info()\n",
    "titanic_test_df.info()"
   ],
   "id": "9350c619d09a1501",
   "outputs": [
    {
     "name": "stdout",
     "output_type": "stream",
     "text": [
      "<class 'pandas.core.frame.DataFrame'>\n",
      "RangeIndex: 891 entries, 0 to 890\n",
      "Data columns (total 12 columns):\n",
      " #   Column       Non-Null Count  Dtype  \n",
      "---  ------       --------------  -----  \n",
      " 0   PassengerId  891 non-null    int64  \n",
      " 1   Survived     891 non-null    int64  \n",
      " 2   Pclass       891 non-null    int64  \n",
      " 3   Name         891 non-null    object \n",
      " 4   Sex          891 non-null    object \n",
      " 5   Age          714 non-null    float64\n",
      " 6   SibSp        891 non-null    int64  \n",
      " 7   Parch        891 non-null    int64  \n",
      " 8   Ticket       891 non-null    object \n",
      " 9   Fare         891 non-null    float64\n",
      " 10  Cabin        204 non-null    object \n",
      " 11  Embarked     889 non-null    object \n",
      "dtypes: float64(2), int64(5), object(5)\n",
      "memory usage: 83.7+ KB\n",
      "<class 'pandas.core.frame.DataFrame'>\n",
      "RangeIndex: 418 entries, 0 to 417\n",
      "Data columns (total 11 columns):\n",
      " #   Column       Non-Null Count  Dtype  \n",
      "---  ------       --------------  -----  \n",
      " 0   PassengerId  418 non-null    int64  \n",
      " 1   Pclass       418 non-null    int64  \n",
      " 2   Name         418 non-null    object \n",
      " 3   Sex          418 non-null    object \n",
      " 4   Age          332 non-null    float64\n",
      " 5   SibSp        418 non-null    int64  \n",
      " 6   Parch        418 non-null    int64  \n",
      " 7   Ticket       418 non-null    object \n",
      " 8   Fare         417 non-null    float64\n",
      " 9   Cabin        91 non-null     object \n",
      " 10  Embarked     418 non-null    object \n",
      "dtypes: float64(2), int64(4), object(5)\n",
      "memory usage: 36.1+ KB\n"
     ]
    }
   ],
   "execution_count": 189
  },
  {
   "metadata": {
    "ExecuteTime": {
     "end_time": "2025-09-14T13:27:53.205334Z",
     "start_time": "2025-09-14T13:27:53.202441Z"
    }
   },
   "cell_type": "code",
   "source": [
    "def metrics(y_val, y_pred_val):\n",
    "    val_accuracy = accuracy_score(y_val, y_pred_val)\n",
    "    print(f\"Validation Accuracy: {val_accuracy:.4f}\")\n",
    "\n",
    "    val_recall = recall_score(y_val, y_pred_val)\n",
    "    print(f\"Recall Score: {val_recall:.4f}\")\n",
    "\n",
    "    val_precision = precision_score(y_val, y_pred_val)\n",
    "    print(f\"Precision Score: {val_precision:.4f}\")\n",
    "\n",
    "    val_f1 = f1_score(y_val, y_pred_val)\n",
    "    print(f\"F1 Score: {val_f1:.4f}\\n\")"
   ],
   "id": "f0c6c0f3ae829326",
   "outputs": [],
   "execution_count": 190
  },
  {
   "metadata": {},
   "cell_type": "markdown",
   "source": "Удалите все пропущенные значения и категориальные переменные. Обучите модель. Выберете и посчитайте метрику качества.",
   "id": "6aca30671f2d8e2b"
  },
  {
   "metadata": {
    "ExecuteTime": {
     "end_time": "2025-09-14T13:27:53.238731Z",
     "start_time": "2025-09-14T13:27:53.224300Z"
    }
   },
   "cell_type": "code",
   "source": [
    "titanic_train_df_1 = titanic_train_df.copy()\n",
    "titanic_test_df_1 = titanic_test_df.copy()\n",
    "\n",
    "for df in [titanic_train_df_1, titanic_test_df_1]:\n",
    "    df.dropna(inplace=True)\n",
    "\n",
    "numeric_cols_train = titanic_train_df_1.select_dtypes(\n",
    "    include=[\"number\"]\n",
    ").columns.tolist()\n",
    "numeric_cols_test = titanic_test_df_1.select_dtypes(include=[\"number\"]).columns.tolist()\n",
    "\n",
    "X = titanic_train_df_1[numeric_cols_train].drop(\"Survived\", axis=1)\n",
    "y = titanic_train_df_1[\"Survived\"]\n",
    "\n",
    "X_train, X_val, y_train, y_val = train_test_split(\n",
    "    X, y, test_size=0.2, random_state=42, stratify=y\n",
    ")\n",
    "\n",
    "model = LogisticRegression(max_iter=10000, random_state=42)\n",
    "model.fit(X_train, y_train)\n",
    "y_pred_val = model.predict(X_val)\n",
    "\n",
    "metrics(y_val, y_pred_val)"
   ],
   "id": "cffa605f5218f507",
   "outputs": [
    {
     "name": "stdout",
     "output_type": "stream",
     "text": [
      "Validation Accuracy: 0.6757\n",
      "Recall Score: 0.8800\n",
      "Precision Score: 0.7097\n",
      "F1 Score: 0.7857\n",
      "\n"
     ]
    }
   ],
   "execution_count": 191
  },
  {
   "metadata": {},
   "cell_type": "markdown",
   "source": [
    "Удалите признаки, которые логически не нужны для построения модели. Обоснуйте.\n",
    "Проверьте данные на наличие пропущенных значений.\n",
    "a) Посчитайте, какой процент данных будет потерян, если просто удалить пропуски.\n",
    "b) Заполните пропуски: средним значением; константой; классом, указывающим на то, что значение было пропущено; случайным числом. Для разных признаков используйте подходящий метод. Можно не использовать все перечисленные методы."
   ],
   "id": "ce9ed5a4f2084d9c"
  },
  {
   "metadata": {
    "ExecuteTime": {
     "end_time": "2025-09-14T13:27:53.260400Z",
     "start_time": "2025-09-14T13:27:53.256603Z"
    }
   },
   "cell_type": "code",
   "source": [
    "def nulls_filler(df, feature, options=(\"mean\", \"const\", \"rand\")):\n",
    "    df = df.copy()\n",
    "\n",
    "    if options == \"mean\":\n",
    "        df[feature] = df.groupby(df.columns.drop(feature).to_list())[feature].transform(\n",
    "            \"mean\"\n",
    "        )\n",
    "        if df[feature].isnull().any():\n",
    "            df[feature] = df[feature].fillna(df[feature].mean())\n",
    "\n",
    "    elif options == \"const\":\n",
    "        df[feature] = df[feature].fillna(42)\n",
    "    elif options == \"rand\":\n",
    "        age_values = df[feature].dropna().values\n",
    "        df[feature] = df[feature].fillna(np.random.choice(age_values))\n",
    "    else:\n",
    "        df[feature] = df[feature].fillna(-99999)\n",
    "\n",
    "    print(\"You have filled NaNs with: \", options)\n",
    "    return df"
   ],
   "id": "32b2bb49547b1e21",
   "outputs": [],
   "execution_count": 192
  },
  {
   "metadata": {
    "ExecuteTime": {
     "end_time": "2025-09-14T13:27:53.283073Z",
     "start_time": "2025-09-14T13:27:53.278649Z"
    }
   },
   "cell_type": "code",
   "source": [
    "titanic_train_df_2 = titanic_train_df.copy()\n",
    "\n",
    "titanic_train_df_2.head()\n",
    "X = titanic_train_df_2.drop(\n",
    "    [\"PassengerId\", \"Survived\", \"Name\", \"Ticket\", \"Cabin\"], axis=1\n",
    ")\n",
    "y = titanic_train_df_2[\"Survived\"]\n",
    "\n",
    "data_miss_pct = (X.isnull().sum() / len(X)) * 100\n",
    "print(\"Процент потери данных: \", data_miss_pct)\n",
    "\n",
    "X[\"Embarked\"] = X[\"Embarked\"].fillna(X[\"Embarked\"].mode()[0])"
   ],
   "id": "a7f0dbf17c56c488",
   "outputs": [
    {
     "name": "stdout",
     "output_type": "stream",
     "text": [
      "Процент потери данных:  Pclass       0.000000\n",
      "Sex          0.000000\n",
      "Age         19.865320\n",
      "SibSp        0.000000\n",
      "Parch        0.000000\n",
      "Fare         0.000000\n",
      "Embarked     0.224467\n",
      "dtype: float64\n"
     ]
    }
   ],
   "execution_count": 193
  },
  {
   "metadata": {},
   "cell_type": "markdown",
   "source": "Категориальные переменные переведите в цифровые значения",
   "id": "31a0d956a13b1813"
  },
  {
   "metadata": {
    "ExecuteTime": {
     "end_time": "2025-09-14T13:27:53.313219Z",
     "start_time": "2025-09-14T13:27:53.307054Z"
    }
   },
   "cell_type": "code",
   "source": [
    "X = pd.get_dummies(X, columns=[\"Sex\", \"Embarked\"], drop_first=True)\n",
    "X.head()"
   ],
   "id": "f05d6fa681ccab49",
   "outputs": [
    {
     "data": {
      "text/plain": [
       "   Pclass   Age  SibSp  Parch     Fare  Sex_male  Embarked_Q  Embarked_S\n",
       "0       3  22.0      1      0   7.2500      True       False        True\n",
       "1       1  38.0      1      0  71.2833     False       False       False\n",
       "2       3  26.0      0      0   7.9250     False       False        True\n",
       "3       1  35.0      1      0  53.1000     False       False        True\n",
       "4       3  35.0      0      0   8.0500      True       False        True"
      ],
      "text/html": [
       "<div>\n",
       "<style scoped>\n",
       "    .dataframe tbody tr th:only-of-type {\n",
       "        vertical-align: middle;\n",
       "    }\n",
       "\n",
       "    .dataframe tbody tr th {\n",
       "        vertical-align: top;\n",
       "    }\n",
       "\n",
       "    .dataframe thead th {\n",
       "        text-align: right;\n",
       "    }\n",
       "</style>\n",
       "<table border=\"1\" class=\"dataframe\">\n",
       "  <thead>\n",
       "    <tr style=\"text-align: right;\">\n",
       "      <th></th>\n",
       "      <th>Pclass</th>\n",
       "      <th>Age</th>\n",
       "      <th>SibSp</th>\n",
       "      <th>Parch</th>\n",
       "      <th>Fare</th>\n",
       "      <th>Sex_male</th>\n",
       "      <th>Embarked_Q</th>\n",
       "      <th>Embarked_S</th>\n",
       "    </tr>\n",
       "  </thead>\n",
       "  <tbody>\n",
       "    <tr>\n",
       "      <th>0</th>\n",
       "      <td>3</td>\n",
       "      <td>22.0</td>\n",
       "      <td>1</td>\n",
       "      <td>0</td>\n",
       "      <td>7.2500</td>\n",
       "      <td>True</td>\n",
       "      <td>False</td>\n",
       "      <td>True</td>\n",
       "    </tr>\n",
       "    <tr>\n",
       "      <th>1</th>\n",
       "      <td>1</td>\n",
       "      <td>38.0</td>\n",
       "      <td>1</td>\n",
       "      <td>0</td>\n",
       "      <td>71.2833</td>\n",
       "      <td>False</td>\n",
       "      <td>False</td>\n",
       "      <td>False</td>\n",
       "    </tr>\n",
       "    <tr>\n",
       "      <th>2</th>\n",
       "      <td>3</td>\n",
       "      <td>26.0</td>\n",
       "      <td>0</td>\n",
       "      <td>0</td>\n",
       "      <td>7.9250</td>\n",
       "      <td>False</td>\n",
       "      <td>False</td>\n",
       "      <td>True</td>\n",
       "    </tr>\n",
       "    <tr>\n",
       "      <th>3</th>\n",
       "      <td>1</td>\n",
       "      <td>35.0</td>\n",
       "      <td>1</td>\n",
       "      <td>0</td>\n",
       "      <td>53.1000</td>\n",
       "      <td>False</td>\n",
       "      <td>False</td>\n",
       "      <td>True</td>\n",
       "    </tr>\n",
       "    <tr>\n",
       "      <th>4</th>\n",
       "      <td>3</td>\n",
       "      <td>35.0</td>\n",
       "      <td>0</td>\n",
       "      <td>0</td>\n",
       "      <td>8.0500</td>\n",
       "      <td>True</td>\n",
       "      <td>False</td>\n",
       "      <td>True</td>\n",
       "    </tr>\n",
       "  </tbody>\n",
       "</table>\n",
       "</div>"
      ]
     },
     "execution_count": 194,
     "metadata": {},
     "output_type": "execute_result"
    }
   ],
   "execution_count": 194
  },
  {
   "metadata": {},
   "cell_type": "markdown",
   "source": [
    "Проверьте данные на наличие выбросов.\n",
    "Удалите выбросы, если считаете это целесообразным. Обоснуйте."
   ],
   "id": "4bc0829fd4277dcc"
  },
  {
   "metadata": {
    "ExecuteTime": {
     "end_time": "2025-09-14T13:27:53.457583Z",
     "start_time": "2025-09-14T13:27:53.346354Z"
    }
   },
   "cell_type": "code",
   "source": [
    "fig, axes = plt.subplots(1, 3, figsize=(15, 5))\n",
    "\n",
    "for i, feature in enumerate([\"Age\", \"Pclass\", \"Fare\"]):\n",
    "    sns.boxplot(y=X[feature], ax=axes[i])\n",
    "    axes[i].set_title(f\"{feature}\")\n",
    "\n",
    "plt.tight_layout()\n",
    "plt.show()"
   ],
   "id": "936e9dd5ee61bdb",
   "outputs": [
    {
     "data": {
      "text/plain": [
       "<Figure size 1500x500 with 3 Axes>"
      ],
      "image/png": "[encoded data removed]"
     },
     "metadata": {},
     "output_type": "display_data"
    }
   ],
   "execution_count": 195
  },
  {
   "metadata": {
    "ExecuteTime": {
     "end_time": "2025-09-14T13:27:53.516724Z",
     "start_time": "2025-09-14T13:27:53.475237Z"
    }
   },
   "cell_type": "code",
   "source": [
    "X[\"Fare\"].hist(bins=10, edgecolor=\"k\")"
   ],
   "id": "9af56074993f5ed4",
   "outputs": [
    {
     "data": {
      "text/plain": [
       "<Axes: >"
      ]
     },
     "execution_count": 196,
     "metadata": {},
     "output_type": "execute_result"
    },
    {
     "data": {
      "text/plain": [
       "<Figure size 640x480 with 1 Axes>"
      ],
      "image/png": "[encoded data removed]"
     },
     "metadata": {},
     "output_type": "display_data"
    }
   ],
   "execution_count": 196
  },
  {
   "metadata": {},
   "cell_type": "markdown",
   "source": "Судя по визуализациям возможных выбросов в признаках возраста и стоимости проезда - они не противоречат здравому смыслу и вполне вероятно, что по сути не являются аномальными данными, поэтому удалять их не будем.",
   "id": "ba8401d5cd393575"
  },
  {
   "metadata": {},
   "cell_type": "markdown",
   "source": [
    "*Попробуйте математически преобразовать признак Age.\n",
    "\n",
    "Обучите ту же модель, что в п. 2 на преобразованных данных. Посчитайте ту же, что в п. 2 метрику."
   ],
   "id": "8150de2d02f0290e"
  },
  {
   "metadata": {
    "ExecuteTime": {
     "end_time": "2025-09-14T13:27:53.548268Z",
     "start_time": "2025-09-14T13:27:53.543632Z"
    }
   },
   "cell_type": "code",
   "source": [
    "X[\"family_size\"] = X[\"SibSp\"] + X[\"Parch\"] + 1\n",
    "X[\"family_type\"] = pd.cut(\n",
    "    X[\"family_size\"],\n",
    "    bins=[1, 2, 5, 8, 100],\n",
    "    labels=[\"Loner\", \"Small\", \"Medium\", \"Large\"],\n",
    "    include_lowest=True,\n",
    ")\n",
    "X = pd.get_dummies(X, columns=[\"family_type\"], drop_first=True)"
   ],
   "id": "3204adc825a162d5",
   "outputs": [],
   "execution_count": 197
  },
  {
   "metadata": {},
   "cell_type": "markdown",
   "source": "С бинами признака Age",
   "id": "3bea7b76bb02ae21"
  },
  {
   "metadata": {
    "ExecuteTime": {
     "end_time": "2025-09-14T13:27:53.628804Z",
     "start_time": "2025-09-14T13:27:53.574793Z"
    }
   },
   "cell_type": "code",
   "source": [
    "for i in [\"mean\", \"const\", \"rand\", \"unknown_feature\"]:\n",
    "    X_custom_feat = X.copy()\n",
    "\n",
    "    X_custom_feat = nulls_filler(X_custom_feat, \"Age\", options=i)\n",
    "\n",
    "    X_custom_feat[\"age_group\"] = pd.cut(\n",
    "        X_custom_feat[\"Age\"],\n",
    "        bins=[0, 12, 18, 35, 60, 100],\n",
    "        labels=[\"Child\", \"Teen\", \"Young\", \"Adult\", \"Senior\"],\n",
    "        include_lowest=True,\n",
    "    )\n",
    "    X_custom_feat = pd.get_dummies(\n",
    "        X_custom_feat, columns=[\"age_group\"], drop_first=True\n",
    "    )\n",
    "\n",
    "    X_custom_feat = X_custom_feat.drop([\"Age\", \"SibSp\", \"Parch\", \"family_size\"], axis=1)\n",
    "\n",
    "    X_train, X_val, y_train, y_val = train_test_split(\n",
    "        X_custom_feat, y, test_size=0.2, random_state=42, stratify=y\n",
    "    )\n",
    "    model.fit(X_train, y_train)\n",
    "    y_pred_val = model.predict(X_val)\n",
    "\n",
    "    metrics(y_val, y_pred_val)"
   ],
   "id": "7a99f68171f5a87",
   "outputs": [
    {
     "name": "stdout",
     "output_type": "stream",
     "text": [
      "You have filled NaNs with:  mean\n",
      "Validation Accuracy: 0.7989\n",
      "Recall Score: 0.6957\n",
      "Precision Score: 0.7619\n",
      "F1 Score: 0.7273\n",
      "\n",
      "You have filled NaNs with:  const\n",
      "Validation Accuracy: 0.7989\n",
      "Recall Score: 0.6812\n",
      "Precision Score: 0.7705\n",
      "F1 Score: 0.7231\n",
      "\n",
      "You have filled NaNs with:  rand\n",
      "Validation Accuracy: 0.7933\n",
      "Recall Score: 0.6957\n",
      "Precision Score: 0.7500\n",
      "F1 Score: 0.7218\n",
      "\n",
      "You have filled NaNs with:  unknown_feature\n",
      "Validation Accuracy: 0.7933\n",
      "Recall Score: 0.6957\n",
      "Precision Score: 0.7500\n",
      "F1 Score: 0.7218\n",
      "\n"
     ]
    }
   ],
   "execution_count": 198
  },
  {
   "metadata": {},
   "cell_type": "markdown",
   "source": "Без бинов признака Age",
   "id": "f9f04d7df6bca53f"
  },
  {
   "metadata": {
    "ExecuteTime": {
     "end_time": "2025-09-14T13:27:53.997409Z",
     "start_time": "2025-09-14T13:27:53.643836Z"
    }
   },
   "cell_type": "code",
   "source": [
    "for i in [\"mean\", \"const\", \"rand\", \"unknown_feature\"]:\n",
    "    X_custom_feat = X.copy()\n",
    "\n",
    "    X_custom_feat = nulls_filler(X_custom_feat, \"Age\", options=i)\n",
    "\n",
    "    X_train, X_val, y_train, y_val = train_test_split(\n",
    "        X_custom_feat, y, test_size=0.2, random_state=42, stratify=y\n",
    "    )\n",
    "    model.fit(X_train, y_train)\n",
    "    y_pred_val = model.predict(X_val)\n",
    "\n",
    "    metrics(y_val, y_pred_val)"
   ],
   "id": "e664d171f05ebb75",
   "outputs": [
    {
     "name": "stdout",
     "output_type": "stream",
     "text": [
      "You have filled NaNs with:  mean\n",
      "Validation Accuracy: 0.7989\n",
      "Recall Score: 0.6522\n",
      "Precision Score: 0.7895\n",
      "F1 Score: 0.7143\n",
      "\n",
      "You have filled NaNs with:  const\n",
      "Validation Accuracy: 0.8101\n",
      "Recall Score: 0.6667\n",
      "Precision Score: 0.8070\n",
      "F1 Score: 0.7302\n",
      "\n",
      "You have filled NaNs with:  rand\n",
      "Validation Accuracy: 0.7877\n",
      "Recall Score: 0.6522\n",
      "Precision Score: 0.7627\n",
      "F1 Score: 0.7031\n",
      "\n",
      "You have filled NaNs with:  unknown_feature\n",
      "Validation Accuracy: 0.7877\n",
      "Recall Score: 0.6667\n",
      "Precision Score: 0.7541\n",
      "F1 Score: 0.7077\n",
      "\n"
     ]
    }
   ],
   "execution_count": 199
  }
 ],
 "metadata": {
  "kernelspec": {
   "display_name": "Python 3",
   "language": "python",
   "name": "python3"
  },
  "language_info": {
   "codemirror_mode": {
    "name": "ipython",
    "version": 2
   },
   "file_extension": ".py",
   "mimetype": "text/x-python",
   "name": "python",
   "nbconvert_exporter": "python",
   "pygments_lexer": "ipython2",
   "version": "2.7.6"
  }
 },
 "nbformat": 4,
 "nbformat_minor": 5
}
